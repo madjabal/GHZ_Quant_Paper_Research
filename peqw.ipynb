{
 "cells": [
  {
   "cell_type": "code",
   "execution_count": 1,
   "metadata": {
    "ExecuteTime": {
     "end_time": "2019-04-24T16:16:01.663855Z",
     "start_time": "2019-04-24T16:16:00.514043Z"
    }
   },
   "outputs": [],
   "source": [
    "import numpy as np\n",
    "import pandas as pd\n",
    "import matplotlib.pyplot as plt\n",
    "import seaborn as sns\n",
    "%matplotlib inline\n",
    "\n",
    "import torch\n",
    "import torchvision\n",
    "from torch import nn\n",
    "from torch import optim\n",
    "import torch.nn.functional as F\n",
    "from torch.autograd import Variable\n",
    "from torch.utils.data import DataLoader\n",
    "from torchvision import transforms\n",
    "from torchvision.utils import save_image\n",
    "from torchvision.datasets import MNIST\n",
    "\n",
    "from sklearn import preprocessing\n",
    "\n",
    "import os\n",
    "import gc\n",
    "import sys"
   ]
  },
  {
   "cell_type": "code",
   "execution_count": 2,
   "metadata": {
    "ExecuteTime": {
     "end_time": "2019-04-24T16:16:01.668273Z",
     "start_time": "2019-04-24T16:16:01.665668Z"
    }
   },
   "outputs": [],
   "source": [
    "def getdef(key, acc):\n",
    "    return key['Definition of the characteristic-based anomaly variable'][acc]"
   ]
  },
  {
   "cell_type": "code",
   "execution_count": 3,
   "metadata": {
    "ExecuteTime": {
     "end_time": "2019-04-24T16:16:01.673594Z",
     "start_time": "2019-04-24T16:16:01.670781Z"
    }
   },
   "outputs": [],
   "source": [
    "def ispos(value):\n",
    "    if value > 0:\n",
    "        return 1\n",
    "    return 0"
   ]
  },
  {
   "cell_type": "code",
   "execution_count": 4,
   "metadata": {
    "ExecuteTime": {
     "end_time": "2019-04-24T16:16:01.684772Z",
     "start_time": "2019-04-24T16:16:01.676065Z"
    }
   },
   "outputs": [],
   "source": [
    "key = pd.read_csv('var_key.csv')\n",
    "key.set_index('Acronym', inplace=True)"
   ]
  },
  {
   "cell_type": "code",
   "execution_count": 5,
   "metadata": {
    "ExecuteTime": {
     "end_time": "2019-04-24T16:16:01.704356Z",
     "start_time": "2019-04-24T16:16:01.686240Z"
    }
   },
   "outputs": [],
   "source": [
    "d = pd.read_csv('peqw.csv')"
   ]
  },
  {
   "cell_type": "code",
   "execution_count": 6,
   "metadata": {
    "ExecuteTime": {
     "end_time": "2019-04-24T16:16:01.709780Z",
     "start_time": "2019-04-24T16:16:01.705983Z"
    }
   },
   "outputs": [],
   "source": [
    "d.rename(index=str, columns = {'Unnamed: 0':'time'}, inplace=True)"
   ]
  },
  {
   "cell_type": "code",
   "execution_count": 7,
   "metadata": {
    "ExecuteTime": {
     "end_time": "2019-04-24T16:16:01.732263Z",
     "start_time": "2019-04-24T16:16:01.710934Z"
    }
   },
   "outputs": [
    {
     "data": {
      "text/html": [
       "<div>\n",
       "<style scoped>\n",
       "    .dataframe tbody tr th:only-of-type {\n",
       "        vertical-align: middle;\n",
       "    }\n",
       "\n",
       "    .dataframe tbody tr th {\n",
       "        vertical-align: top;\n",
       "    }\n",
       "\n",
       "    .dataframe thead th {\n",
       "        text-align: right;\n",
       "    }\n",
       "</style>\n",
       "<table border=\"1\" class=\"dataframe\">\n",
       "  <thead>\n",
       "    <tr style=\"text-align: right;\">\n",
       "      <th></th>\n",
       "      <th>time</th>\n",
       "      <th>year</th>\n",
       "      <th>absacc</th>\n",
       "      <th>acc</th>\n",
       "      <th>age</th>\n",
       "      <th>agr</th>\n",
       "      <th>bm</th>\n",
       "      <th>bm_ia</th>\n",
       "      <th>cash</th>\n",
       "      <th>cashdebt</th>\n",
       "      <th>...</th>\n",
       "      <th>ps</th>\n",
       "      <th>nincr</th>\n",
       "      <th>divi</th>\n",
       "      <th>divo</th>\n",
       "      <th>rd</th>\n",
       "      <th>sin</th>\n",
       "      <th>IPO</th>\n",
       "      <th>convind</th>\n",
       "      <th>securedind</th>\n",
       "      <th>month</th>\n",
       "    </tr>\n",
       "  </thead>\n",
       "  <tbody>\n",
       "    <tr>\n",
       "      <th>0</th>\n",
       "      <td>0</td>\n",
       "      <td>1980</td>\n",
       "      <td>0.020437</td>\n",
       "      <td>-0.019961</td>\n",
       "      <td>0.004841</td>\n",
       "      <td>-0.051247</td>\n",
       "      <td>0.002593</td>\n",
       "      <td>0.026180</td>\n",
       "      <td>0.005222</td>\n",
       "      <td>-0.066361</td>\n",
       "      <td>...</td>\n",
       "      <td>-0.021583</td>\n",
       "      <td>0.003167</td>\n",
       "      <td>-0.031233</td>\n",
       "      <td>-0.031233</td>\n",
       "      <td>-0.031233</td>\n",
       "      <td>0.096761</td>\n",
       "      <td>0.096761</td>\n",
       "      <td>0.004620</td>\n",
       "      <td>0.096761</td>\n",
       "      <td>1</td>\n",
       "    </tr>\n",
       "    <tr>\n",
       "      <th>1</th>\n",
       "      <td>1</td>\n",
       "      <td>1980</td>\n",
       "      <td>0.015636</td>\n",
       "      <td>-0.000363</td>\n",
       "      <td>-0.018122</td>\n",
       "      <td>-0.014145</td>\n",
       "      <td>-0.021253</td>\n",
       "      <td>-0.004250</td>\n",
       "      <td>0.003154</td>\n",
       "      <td>-0.027831</td>\n",
       "      <td>...</td>\n",
       "      <td>-0.023228</td>\n",
       "      <td>-0.017170</td>\n",
       "      <td>-0.051512</td>\n",
       "      <td>-0.051512</td>\n",
       "      <td>-0.051512</td>\n",
       "      <td>-0.014712</td>\n",
       "      <td>-0.014712</td>\n",
       "      <td>-0.003763</td>\n",
       "      <td>-0.014712</td>\n",
       "      <td>2</td>\n",
       "    </tr>\n",
       "    <tr>\n",
       "      <th>2</th>\n",
       "      <td>2</td>\n",
       "      <td>1980</td>\n",
       "      <td>-0.040065</td>\n",
       "      <td>-0.018086</td>\n",
       "      <td>-0.014526</td>\n",
       "      <td>0.001264</td>\n",
       "      <td>0.033694</td>\n",
       "      <td>0.022895</td>\n",
       "      <td>-0.003068</td>\n",
       "      <td>0.042815</td>\n",
       "      <td>...</td>\n",
       "      <td>0.025033</td>\n",
       "      <td>0.008833</td>\n",
       "      <td>0.011847</td>\n",
       "      <td>0.011847</td>\n",
       "      <td>0.011847</td>\n",
       "      <td>-0.160399</td>\n",
       "      <td>-0.160399</td>\n",
       "      <td>-0.008245</td>\n",
       "      <td>-0.160399</td>\n",
       "      <td>3</td>\n",
       "    </tr>\n",
       "    <tr>\n",
       "      <th>3</th>\n",
       "      <td>3</td>\n",
       "      <td>1980</td>\n",
       "      <td>-0.017147</td>\n",
       "      <td>-0.013814</td>\n",
       "      <td>0.001677</td>\n",
       "      <td>0.001489</td>\n",
       "      <td>-0.022916</td>\n",
       "      <td>-0.014910</td>\n",
       "      <td>-0.015351</td>\n",
       "      <td>0.007168</td>\n",
       "      <td>...</td>\n",
       "      <td>0.027996</td>\n",
       "      <td>0.029631</td>\n",
       "      <td>0.035142</td>\n",
       "      <td>0.035142</td>\n",
       "      <td>0.035142</td>\n",
       "      <td>0.053434</td>\n",
       "      <td>0.053434</td>\n",
       "      <td>0.000111</td>\n",
       "      <td>0.053434</td>\n",
       "      <td>4</td>\n",
       "    </tr>\n",
       "    <tr>\n",
       "      <th>4</th>\n",
       "      <td>4</td>\n",
       "      <td>1980</td>\n",
       "      <td>-0.005577</td>\n",
       "      <td>0.005240</td>\n",
       "      <td>-0.004074</td>\n",
       "      <td>0.029255</td>\n",
       "      <td>-0.010575</td>\n",
       "      <td>-0.011134</td>\n",
       "      <td>0.015279</td>\n",
       "      <td>0.022806</td>\n",
       "      <td>...</td>\n",
       "      <td>0.004142</td>\n",
       "      <td>-0.003777</td>\n",
       "      <td>0.019834</td>\n",
       "      <td>0.019834</td>\n",
       "      <td>0.019834</td>\n",
       "      <td>0.073763</td>\n",
       "      <td>0.073763</td>\n",
       "      <td>0.006476</td>\n",
       "      <td>0.073763</td>\n",
       "      <td>5</td>\n",
       "    </tr>\n",
       "  </tbody>\n",
       "</table>\n",
       "<p>5 rows × 105 columns</p>\n",
       "</div>"
      ],
      "text/plain": [
       "   time  year    absacc       acc       age       agr        bm     bm_ia  \\\n",
       "0     0  1980  0.020437 -0.019961  0.004841 -0.051247  0.002593  0.026180   \n",
       "1     1  1980  0.015636 -0.000363 -0.018122 -0.014145 -0.021253 -0.004250   \n",
       "2     2  1980 -0.040065 -0.018086 -0.014526  0.001264  0.033694  0.022895   \n",
       "3     3  1980 -0.017147 -0.013814  0.001677  0.001489 -0.022916 -0.014910   \n",
       "4     4  1980 -0.005577  0.005240 -0.004074  0.029255 -0.010575 -0.011134   \n",
       "\n",
       "       cash  cashdebt  ...        ps     nincr      divi      divo        rd  \\\n",
       "0  0.005222 -0.066361  ... -0.021583  0.003167 -0.031233 -0.031233 -0.031233   \n",
       "1  0.003154 -0.027831  ... -0.023228 -0.017170 -0.051512 -0.051512 -0.051512   \n",
       "2 -0.003068  0.042815  ...  0.025033  0.008833  0.011847  0.011847  0.011847   \n",
       "3 -0.015351  0.007168  ...  0.027996  0.029631  0.035142  0.035142  0.035142   \n",
       "4  0.015279  0.022806  ...  0.004142 -0.003777  0.019834  0.019834  0.019834   \n",
       "\n",
       "        sin       IPO   convind  securedind  month  \n",
       "0  0.096761  0.096761  0.004620    0.096761      1  \n",
       "1 -0.014712 -0.014712 -0.003763   -0.014712      2  \n",
       "2 -0.160399 -0.160399 -0.008245   -0.160399      3  \n",
       "3  0.053434  0.053434  0.000111    0.053434      4  \n",
       "4  0.073763  0.073763  0.006476    0.073763      5  \n",
       "\n",
       "[5 rows x 105 columns]"
      ]
     },
     "execution_count": 7,
     "metadata": {},
     "output_type": "execute_result"
    }
   ],
   "source": [
    "d.head()"
   ]
  },
  {
   "cell_type": "code",
   "execution_count": 8,
   "metadata": {
    "ExecuteTime": {
     "end_time": "2019-04-24T16:16:01.738624Z",
     "start_time": "2019-04-24T16:16:01.734670Z"
    }
   },
   "outputs": [
    {
     "data": {
      "text/plain": [
       "0   -0.019036\n",
       "1   -0.011720\n",
       "2   -0.059039\n",
       "3   -0.039296\n",
       "4   -0.039749\n",
       "Name: mom1m, dtype: float64"
      ]
     },
     "execution_count": 8,
     "metadata": {},
     "output_type": "execute_result"
    }
   ],
   "source": [
    "d['mom1m'].head()"
   ]
  },
  {
   "cell_type": "code",
   "execution_count": 9,
   "metadata": {
    "ExecuteTime": {
     "end_time": "2019-04-24T16:16:01.750272Z",
     "start_time": "2019-04-24T16:16:01.740560Z"
    }
   },
   "outputs": [],
   "source": [
    "mom1mcorr = d.corr()['mom1m']"
   ]
  },
  {
   "cell_type": "code",
   "execution_count": 10,
   "metadata": {
    "ExecuteTime": {
     "end_time": "2019-04-24T16:16:01.759393Z",
     "start_time": "2019-04-24T16:16:01.751924Z"
    }
   },
   "outputs": [
    {
     "data": {
      "text/html": [
       "<div>\n",
       "<style scoped>\n",
       "    .dataframe tbody tr th:only-of-type {\n",
       "        vertical-align: middle;\n",
       "    }\n",
       "\n",
       "    .dataframe tbody tr th {\n",
       "        vertical-align: top;\n",
       "    }\n",
       "\n",
       "    .dataframe thead th {\n",
       "        text-align: right;\n",
       "    }\n",
       "</style>\n",
       "<table border=\"1\" class=\"dataframe\">\n",
       "  <thead>\n",
       "    <tr style=\"text-align: right;\">\n",
       "      <th></th>\n",
       "      <th>Paper’s author(s)</th>\n",
       "      <th>Date, Journal</th>\n",
       "      <th>Definition of the characteristic-based anomaly variable</th>\n",
       "    </tr>\n",
       "    <tr>\n",
       "      <th>Acronym</th>\n",
       "      <th></th>\n",
       "      <th></th>\n",
       "      <th></th>\n",
       "    </tr>\n",
       "  </thead>\n",
       "  <tbody>\n",
       "    <tr>\n",
       "      <th>absacc</th>\n",
       "      <td>Bandyopadhyay, Huang &amp; Wirjanto</td>\n",
       "      <td>2010, WP</td>\n",
       "      <td>Absolute value of acc.</td>\n",
       "    </tr>\n",
       "    <tr>\n",
       "      <th>acc</th>\n",
       "      <td>Sloan</td>\n",
       "      <td>1996, TAR</td>\n",
       "      <td>Annual income before extraordinary items (ib) ...</td>\n",
       "    </tr>\n",
       "    <tr>\n",
       "      <th>aeavol</th>\n",
       "      <td>Lerman, Livnat &amp; Mendenhall</td>\n",
       "      <td>2007, WP</td>\n",
       "      <td>Average daily trading volume (vol) for 3 days ...</td>\n",
       "    </tr>\n",
       "    <tr>\n",
       "      <th>age</th>\n",
       "      <td>Jiang, Lee &amp; Zhang</td>\n",
       "      <td>2005, RAS</td>\n",
       "      <td>Number of years since first Compustat coverage.</td>\n",
       "    </tr>\n",
       "    <tr>\n",
       "      <th>agr</th>\n",
       "      <td>Cooper, Gulen &amp; Schill</td>\n",
       "      <td>2008, JF</td>\n",
       "      <td>Annual percent change in total assets (at).</td>\n",
       "    </tr>\n",
       "  </tbody>\n",
       "</table>\n",
       "</div>"
      ],
      "text/plain": [
       "                       Paper’s author(s) Date, Journal  \\\n",
       "Acronym                                                  \n",
       "absacc   Bandyopadhyay, Huang & Wirjanto      2010, WP   \n",
       "acc                                Sloan     1996, TAR   \n",
       "aeavol       Lerman, Livnat & Mendenhall      2007, WP   \n",
       "age                   Jiang, Lee & Zhang     2005, RAS   \n",
       "agr               Cooper, Gulen & Schill      2008, JF   \n",
       "\n",
       "        Definition of the characteristic-based anomaly variable  \n",
       "Acronym                                                          \n",
       "absacc                              Absolute value of acc.       \n",
       "acc      Annual income before extraordinary items (ib) ...       \n",
       "aeavol   Average daily trading volume (vol) for 3 days ...       \n",
       "age        Number of years since first Compustat coverage.       \n",
       "agr            Annual percent change in total assets (at).       "
      ]
     },
     "execution_count": 10,
     "metadata": {},
     "output_type": "execute_result"
    }
   ],
   "source": [
    "key.head()"
   ]
  },
  {
   "cell_type": "code",
   "execution_count": 11,
   "metadata": {
    "ExecuteTime": {
     "end_time": "2019-04-24T16:16:01.767170Z",
     "start_time": "2019-04-24T16:16:01.760878Z"
    }
   },
   "outputs": [
    {
     "data": {
      "text/plain": [
       "baspread        -0.471281\n",
       "retvol          -0.455118\n",
       "ill             -0.420183\n",
       "idiovol         -0.419811\n",
       "IPO             -0.413152\n",
       "sin             -0.413152\n",
       "beta            -0.411018\n",
       "betasq          -0.408732\n",
       "maxret          -0.374244\n",
       "stdcf           -0.370217\n",
       "stdacc          -0.364887\n",
       "disp            -0.364153\n",
       "absacc          -0.358972\n",
       "std_turn        -0.352503\n",
       "roavol          -0.343229\n",
       "convind         -0.332445\n",
       "orgcap          -0.321499\n",
       "chcsho          -0.319855\n",
       "depr            -0.311359\n",
       "pctacc          -0.308728\n",
       "fgr5yr          -0.306707\n",
       "secured         -0.291472\n",
       "herf            -0.268339\n",
       "turn            -0.266770\n",
       "chpmia          -0.261321\n",
       "securedind      -0.254101\n",
       "cash            -0.235796\n",
       "salerec         -0.209785\n",
       "pchdepr         -0.209455\n",
       "currat          -0.198132\n",
       "                   ...   \n",
       "chtx             0.212632\n",
       "salecash         0.218421\n",
       "rsup             0.223484\n",
       "dolvol           0.255252\n",
       "zerotrade        0.275886\n",
       "rd               0.277884\n",
       "bm               0.281041\n",
       "pchgm_pchsale    0.282473\n",
       "nincr            0.297692\n",
       "cfp              0.309645\n",
       "ms               0.339371\n",
       "divo             0.339648\n",
       "divi             0.339648\n",
       "roic             0.349298\n",
       "ep               0.355269\n",
       "cashdebt         0.361430\n",
       "roeq             0.363610\n",
       "ear              0.367649\n",
       "indmom           0.370135\n",
       "tb               0.372061\n",
       "age              0.394036\n",
       "roaq             0.399161\n",
       "saleinv          0.412501\n",
       "sue              0.418330\n",
       "mve              0.436523\n",
       "ps               0.442921\n",
       "mom12m           0.526691\n",
       "mom6m            0.585264\n",
       "chmom            0.684140\n",
       "mom1m            1.000000\n",
       "Name: mom1m, Length: 105, dtype: float64"
      ]
     },
     "execution_count": 11,
     "metadata": {},
     "output_type": "execute_result"
    }
   ],
   "source": [
    "mom1mcorr.sort_values()"
   ]
  },
  {
   "cell_type": "code",
   "execution_count": 12,
   "metadata": {
    "ExecuteTime": {
     "end_time": "2019-04-24T16:16:01.772607Z",
     "start_time": "2019-04-24T16:16:01.769053Z"
    }
   },
   "outputs": [
    {
     "data": {
      "text/plain": [
       "'5-month cumulative returns ending one month before month end.'"
      ]
     },
     "execution_count": 12,
     "metadata": {},
     "output_type": "execute_result"
    }
   ],
   "source": [
    "getdef(key, 'mom6m')"
   ]
  },
  {
   "cell_type": "code",
   "execution_count": 13,
   "metadata": {
    "ExecuteTime": {
     "end_time": "2019-04-24T16:16:01.777404Z",
     "start_time": "2019-04-24T16:16:01.773936Z"
    }
   },
   "outputs": [
    {
     "data": {
      "text/plain": [
       "'Cumulative returns from months t-6 to t-1 minus months t-12 to t-7.'"
      ]
     },
     "execution_count": 13,
     "metadata": {},
     "output_type": "execute_result"
    }
   ],
   "source": [
    "getdef(key, 'chmom')"
   ]
  },
  {
   "cell_type": "code",
   "execution_count": 14,
   "metadata": {
    "ExecuteTime": {
     "end_time": "2019-04-24T16:16:01.924215Z",
     "start_time": "2019-04-24T16:16:01.778859Z"
    }
   },
   "outputs": [
    {
     "data": {
      "text/plain": [
       "<matplotlib.lines.Line2D at 0x1a28a94d30>"
      ]
     },
     "execution_count": 14,
     "metadata": {},
     "output_type": "execute_result"
    },
    {
     "data": {
      "image/png": "[encoded data removed]",
      "text/plain": [
       "<Figure size 432x288 with 1 Axes>"
      ]
     },
     "metadata": {
      "needs_background": "light"
     },
     "output_type": "display_data"
    }
   ],
   "source": [
    "sns.scatterplot(x=d['mom1m'], y=d['mom6m'])\n",
    "plt.axvline(0,0,1)\n",
    "plt.axhline(0,0,1)"
   ]
  },
  {
   "cell_type": "code",
   "execution_count": 15,
   "metadata": {
    "ExecuteTime": {
     "end_time": "2019-04-24T16:16:02.057679Z",
     "start_time": "2019-04-24T16:16:01.925804Z"
    }
   },
   "outputs": [
    {
     "data": {
      "text/plain": [
       "<matplotlib.lines.Line2D at 0x1a294a3fd0>"
      ]
     },
     "execution_count": 15,
     "metadata": {},
     "output_type": "execute_result"
    },
    {
     "data": {
      "image/png": "[encoded data removed]",
      "text/plain": [
       "<Figure size 432x288 with 1 Axes>"
      ]
     },
     "metadata": {
      "needs_background": "light"
     },
     "output_type": "display_data"
    }
   ],
   "source": [
    "sns.scatterplot(x=d['mom1m'], y=d['mom12m'])\n",
    "plt.axvline(0,0,1)\n",
    "plt.axhline(0,0,1)"
   ]
  },
  {
   "cell_type": "code",
   "execution_count": 16,
   "metadata": {
    "ExecuteTime": {
     "end_time": "2019-04-24T16:16:02.173657Z",
     "start_time": "2019-04-24T16:16:02.059249Z"
    }
   },
   "outputs": [
    {
     "data": {
      "text/plain": [
       "<matplotlib.lines.Line2D at 0x1a29442a20>"
      ]
     },
     "execution_count": 16,
     "metadata": {},
     "output_type": "execute_result"
    },
    {
     "data": {
      "image/png": "[encoded data removed]",
      "text/plain": [
       "<Figure size 432x288 with 1 Axes>"
      ]
     },
     "metadata": {
      "needs_background": "light"
     },
     "output_type": "display_data"
    }
   ],
   "source": [
    "sns.scatterplot(x=d['mom1m'], y=d['chmom'])\n",
    "plt.axvline(0,0,1)\n",
    "plt.axhline(0,0,1)"
   ]
  },
  {
   "cell_type": "code",
   "execution_count": 17,
   "metadata": {
    "ExecuteTime": {
     "end_time": "2019-04-24T16:16:02.187185Z",
     "start_time": "2019-04-24T16:16:02.175081Z"
    }
   },
   "outputs": [
    {
     "name": "stdout",
     "output_type": "stream",
     "text": [
      "right 295\n",
      "wrong 125\n"
     ]
    }
   ],
   "source": [
    "# Chmom prediction\n",
    "chmom_pred = []\n",
    "for i in range(len(d['chmom'])):\n",
    "    chmom_pred.append(d['chmom'].iloc[i] * d['mom1m'].iloc[i])\n",
    "\n",
    "print('right', sum([1 for i in chmom_pred if i > 0]))\n",
    "print('wrong', sum([1 for i in chmom_pred if i < 0]))"
   ]
  },
  {
   "cell_type": "code",
   "execution_count": 18,
   "metadata": {
    "ExecuteTime": {
     "end_time": "2019-04-24T16:16:02.202660Z",
     "start_time": "2019-04-24T16:16:02.189598Z"
    }
   },
   "outputs": [
    {
     "name": "stdout",
     "output_type": "stream",
     "text": [
      "right 238\n",
      "wrong 182\n"
     ]
    }
   ],
   "source": [
    "# mom6m prediction\n",
    "mom6m_pred = []\n",
    "for i in range(len(d['mom6m'])):\n",
    "    mom6m_pred.append(d['mom6m'].iloc[i] * d['mom1m'].iloc[i])\n",
    "\n",
    "print('right', sum([1 for i in mom6m_pred if i > 0]))\n",
    "print('wrong', sum([1 for i in mom6m_pred if i < 0]))"
   ]
  },
  {
   "cell_type": "code",
   "execution_count": 19,
   "metadata": {
    "ExecuteTime": {
     "end_time": "2019-04-24T16:16:02.218613Z",
     "start_time": "2019-04-24T16:16:02.204112Z"
    }
   },
   "outputs": [
    {
     "name": "stdout",
     "output_type": "stream",
     "text": [
      "right 228\n",
      "wrong 192\n"
     ]
    }
   ],
   "source": [
    "# mom12m prediction\n",
    "mom12m_pred = []\n",
    "for i in range(len(d['mom12m'])):\n",
    "    mom12m_pred.append(d['mom12m'].iloc[i] * d['mom1m'].iloc[i])\n",
    "\n",
    "print('right', sum([1 for i in mom12m_pred if i > 0]))\n",
    "print('wrong', sum([1 for i in mom12m_pred if i < 0]))"
   ]
  },
  {
   "cell_type": "code",
   "execution_count": 20,
   "metadata": {
    "ExecuteTime": {
     "end_time": "2019-04-24T16:16:02.224322Z",
     "start_time": "2019-04-24T16:16:02.220172Z"
    }
   },
   "outputs": [],
   "source": [
    "m = d[['time', 'year', 'month', 'mom1m', 'mom6m', 'mom12m', 'chmom']]"
   ]
  },
  {
   "cell_type": "code",
   "execution_count": 79,
   "metadata": {
    "ExecuteTime": {
     "end_time": "2019-04-24T17:41:03.664492Z",
     "start_time": "2019-04-24T17:41:03.506902Z"
    }
   },
   "outputs": [
    {
     "name": "stderr",
     "output_type": "stream",
     "text": [
      "/anaconda3/lib/python3.6/site-packages/ipykernel_launcher.py:4: SettingWithCopyWarning: \n",
      "A value is trying to be set on a copy of a slice from a DataFrame.\n",
      "Try using .loc[row_indexer,col_indexer] = value instead\n",
      "\n",
      "See the caveats in the documentation: http://pandas.pydata.org/pandas-docs/stable/indexing.html#indexing-view-versus-copy\n",
      "  after removing the cwd from sys.path.\n"
     ]
    }
   ],
   "source": [
    "m126 = []\n",
    "for i in range(len(m['time'])):\n",
    "    m126.append(m['mom6m'].iloc[i] - m['chmom'].iloc[i])\n",
    "m['mom126m'] = m126"
   ]
  },
  {
   "cell_type": "code",
   "execution_count": 82,
   "metadata": {
    "ExecuteTime": {
     "end_time": "2019-04-24T17:42:03.125537Z",
     "start_time": "2019-04-24T17:42:03.115240Z"
    }
   },
   "outputs": [
    {
     "data": {
      "text/html": [
       "<div>\n",
       "<style scoped>\n",
       "    .dataframe tbody tr th:only-of-type {\n",
       "        vertical-align: middle;\n",
       "    }\n",
       "\n",
       "    .dataframe tbody tr th {\n",
       "        vertical-align: top;\n",
       "    }\n",
       "\n",
       "    .dataframe thead th {\n",
       "        text-align: right;\n",
       "    }\n",
       "</style>\n",
       "<table border=\"1\" class=\"dataframe\">\n",
       "  <thead>\n",
       "    <tr style=\"text-align: right;\">\n",
       "      <th></th>\n",
       "      <th>time</th>\n",
       "      <th>year</th>\n",
       "      <th>month</th>\n",
       "      <th>mom1m</th>\n",
       "      <th>mom6m</th>\n",
       "      <th>mom12m</th>\n",
       "      <th>chmom</th>\n",
       "      <th>mom126m</th>\n",
       "    </tr>\n",
       "  </thead>\n",
       "  <tbody>\n",
       "    <tr>\n",
       "      <th>0</th>\n",
       "      <td>0</td>\n",
       "      <td>1980</td>\n",
       "      <td>1</td>\n",
       "      <td>-0.019036</td>\n",
       "      <td>0.023017</td>\n",
       "      <td>0.043283</td>\n",
       "      <td>-0.019630</td>\n",
       "      <td>0.042647</td>\n",
       "    </tr>\n",
       "    <tr>\n",
       "      <th>1</th>\n",
       "      <td>1</td>\n",
       "      <td>1980</td>\n",
       "      <td>2</td>\n",
       "      <td>-0.011720</td>\n",
       "      <td>0.039917</td>\n",
       "      <td>0.047276</td>\n",
       "      <td>-0.009961</td>\n",
       "      <td>0.049878</td>\n",
       "    </tr>\n",
       "    <tr>\n",
       "      <th>2</th>\n",
       "      <td>2</td>\n",
       "      <td>1980</td>\n",
       "      <td>3</td>\n",
       "      <td>-0.059039</td>\n",
       "      <td>-0.044538</td>\n",
       "      <td>-0.060338</td>\n",
       "      <td>-0.010357</td>\n",
       "      <td>-0.034181</td>\n",
       "    </tr>\n",
       "    <tr>\n",
       "      <th>3</th>\n",
       "      <td>3</td>\n",
       "      <td>1980</td>\n",
       "      <td>4</td>\n",
       "      <td>-0.039296</td>\n",
       "      <td>0.043713</td>\n",
       "      <td>0.048351</td>\n",
       "      <td>-0.027406</td>\n",
       "      <td>0.071118</td>\n",
       "    </tr>\n",
       "    <tr>\n",
       "      <th>4</th>\n",
       "      <td>4</td>\n",
       "      <td>1980</td>\n",
       "      <td>5</td>\n",
       "      <td>-0.039749</td>\n",
       "      <td>-0.030409</td>\n",
       "      <td>-0.017396</td>\n",
       "      <td>-0.034548</td>\n",
       "      <td>0.004139</td>\n",
       "    </tr>\n",
       "  </tbody>\n",
       "</table>\n",
       "</div>"
      ],
      "text/plain": [
       "   time  year  month     mom1m     mom6m    mom12m     chmom   mom126m\n",
       "0     0  1980      1 -0.019036  0.023017  0.043283 -0.019630  0.042647\n",
       "1     1  1980      2 -0.011720  0.039917  0.047276 -0.009961  0.049878\n",
       "2     2  1980      3 -0.059039 -0.044538 -0.060338 -0.010357 -0.034181\n",
       "3     3  1980      4 -0.039296  0.043713  0.048351 -0.027406  0.071118\n",
       "4     4  1980      5 -0.039749 -0.030409 -0.017396 -0.034548  0.004139"
      ]
     },
     "execution_count": 82,
     "metadata": {},
     "output_type": "execute_result"
    }
   ],
   "source": [
    "m.head()"
   ]
  },
  {
   "cell_type": "code",
   "execution_count": 83,
   "metadata": {
    "ExecuteTime": {
     "end_time": "2019-04-24T17:42:12.058995Z",
     "start_time": "2019-04-24T17:42:12.042848Z"
    }
   },
   "outputs": [
    {
     "name": "stdout",
     "output_type": "stream",
     "text": [
      "right 187\n",
      "wrong 233\n"
     ]
    }
   ],
   "source": [
    "# mom126m prediction\n",
    "mom126m_pred = []\n",
    "for i in range(len(m['mom126m'])):\n",
    "    mom126m_pred.append(m['mom126m'].iloc[i] * m['mom1m'].iloc[i])\n",
    "\n",
    "print('right', sum([1 for i in mom126m_pred if i > 0]))\n",
    "print('wrong', sum([1 for i in mom126m_pred if i < 0]))"
   ]
  },
  {
   "cell_type": "code",
   "execution_count": 78,
   "metadata": {
    "ExecuteTime": {
     "end_time": "2019-04-24T17:40:49.554297Z",
     "start_time": "2019-04-24T17:40:49.549459Z"
    }
   },
   "outputs": [
    {
     "data": {
      "text/plain": [
       "0    0.042647\n",
       "1    0.049878\n",
       "2   -0.034181\n",
       "3    0.071118\n",
       "4    0.004139\n",
       "Name: mom126m, dtype: float64"
      ]
     },
     "execution_count": 78,
     "metadata": {},
     "output_type": "execute_result"
    }
   ],
   "source": [
    "m['mom126m'].head()"
   ]
  },
  {
   "cell_type": "code",
   "execution_count": 23,
   "metadata": {
    "ExecuteTime": {
     "end_time": "2019-04-24T16:16:02.301760Z",
     "start_time": "2019-04-24T16:16:02.299055Z"
    }
   },
   "outputs": [],
   "source": [
    "# bm1 = []\n",
    "# for i in range(len(m['time'])):\n",
    "#     bm1.append(ispos(m['mom1m'].iloc[i]))\n",
    "# m['bmom1m'] = bm1"
   ]
  },
  {
   "cell_type": "code",
   "execution_count": 24,
   "metadata": {
    "ExecuteTime": {
     "end_time": "2019-04-24T16:16:02.307222Z",
     "start_time": "2019-04-24T16:16:02.304817Z"
    }
   },
   "outputs": [],
   "source": [
    "# bm6 = []\n",
    "# for i in range(len(m['time'])):\n",
    "#     bm6.append(ispos(m['mom6m'].iloc[i]))\n",
    "# m['bmom6m'] = bm6"
   ]
  },
  {
   "cell_type": "code",
   "execution_count": 25,
   "metadata": {
    "ExecuteTime": {
     "end_time": "2019-04-24T16:16:02.311298Z",
     "start_time": "2019-04-24T16:16:02.309006Z"
    }
   },
   "outputs": [],
   "source": [
    "# bm12 = []\n",
    "# for i in range(len(m['time'])):\n",
    "#     bm12.append(ispos(m['mom12m'].iloc[i]))\n",
    "# m['bmom12m'] = bm12"
   ]
  },
  {
   "cell_type": "code",
   "execution_count": 26,
   "metadata": {
    "ExecuteTime": {
     "end_time": "2019-04-24T16:16:02.326041Z",
     "start_time": "2019-04-24T16:16:02.313214Z"
    }
   },
   "outputs": [
    {
     "name": "stdout",
     "output_type": "stream",
     "text": [
      "<class 'pandas.core.frame.DataFrame'>\n",
      "Index: 420 entries, 0 to 419\n",
      "Columns: 105 entries, time to month\n",
      "dtypes: float64(102), int64(3)\n",
      "memory usage: 367.8+ KB\n"
     ]
    }
   ],
   "source": [
    "d.info()"
   ]
  },
  {
   "cell_type": "code",
   "execution_count": 27,
   "metadata": {
    "ExecuteTime": {
     "end_time": "2019-04-24T16:16:02.487525Z",
     "start_time": "2019-04-24T16:16:02.327867Z"
    }
   },
   "outputs": [
    {
     "data": {
      "text/plain": [
       "<matplotlib.axes._subplots.AxesSubplot at 0x1a29a00ba8>"
      ]
     },
     "execution_count": 27,
     "metadata": {},
     "output_type": "execute_result"
    },
    {
     "data": {
      "image/png": "[encoded data removed]",
      "text/plain": [
       "<Figure size 432x288 with 1 Axes>"
      ]
     },
     "metadata": {
      "needs_background": "light"
     },
     "output_type": "display_data"
    }
   ],
   "source": [
    "sns.lineplot(y=d['mom1m'], x=d['time'])"
   ]
  },
  {
   "cell_type": "code",
   "execution_count": 28,
   "metadata": {
    "ExecuteTime": {
     "end_time": "2019-04-24T16:16:02.642625Z",
     "start_time": "2019-04-24T16:16:02.489487Z"
    }
   },
   "outputs": [
    {
     "data": {
      "text/plain": [
       "<matplotlib.axes._subplots.AxesSubplot at 0x1a29ab6630>"
      ]
     },
     "execution_count": 28,
     "metadata": {},
     "output_type": "execute_result"
    },
    {
     "data": {
      "image/png": "[encoded data removed]",
      "text/plain": [
       "<Figure size 432x288 with 2 Axes>"
      ]
     },
     "metadata": {
      "needs_background": "light"
     },
     "output_type": "display_data"
    }
   ],
   "source": [
    "sns.heatmap(data=m.corr())"
   ]
  },
  {
   "cell_type": "code",
   "execution_count": 29,
   "metadata": {
    "ExecuteTime": {
     "end_time": "2019-04-24T16:16:02.651739Z",
     "start_time": "2019-04-24T16:16:02.645737Z"
    }
   },
   "outputs": [
    {
     "data": {
      "text/plain": [
       "time       0.128251\n",
       "year       0.123611\n",
       "month      0.164729\n",
       "mom1m      1.000000\n",
       "mom6m      0.585264\n",
       "mom12m     0.526691\n",
       "chmom      0.684140\n",
       "mom126m    0.213199\n",
       "Name: mom1m, dtype: float64"
      ]
     },
     "execution_count": 29,
     "metadata": {},
     "output_type": "execute_result"
    }
   ],
   "source": [
    "m.corr()['mom1m']"
   ]
  },
  {
   "cell_type": "code",
   "execution_count": 30,
   "metadata": {
    "ExecuteTime": {
     "end_time": "2019-04-24T16:16:02.872012Z",
     "start_time": "2019-04-24T16:16:02.652884Z"
    }
   },
   "outputs": [
    {
     "data": {
      "text/plain": [
       "<matplotlib.axes._subplots.AxesSubplot at 0x1a29c20208>"
      ]
     },
     "execution_count": 30,
     "metadata": {},
     "output_type": "execute_result"
    },
    {
     "data": {
      "image/png": "[encoded data removed]",
      "text/plain": [
       "<Figure size 432x288 with 1 Axes>"
      ]
     },
     "metadata": {
      "needs_background": "light"
     },
     "output_type": "display_data"
    }
   ],
   "source": [
    "sns.boxplot(x=m['month'],y=m['mom1m'])"
   ]
  },
  {
   "cell_type": "code",
   "execution_count": null,
   "metadata": {
    "ExecuteTime": {
     "end_time": "2019-04-24T16:16:02.876231Z",
     "start_time": "2019-04-24T16:16:02.873630Z"
    }
   },
   "outputs": [],
   "source": []
  },
  {
   "cell_type": "code",
   "execution_count": 32,
   "metadata": {
    "ExecuteTime": {
     "end_time": "2019-04-24T16:16:02.881535Z",
     "start_time": "2019-04-24T16:16:02.878108Z"
    }
   },
   "outputs": [],
   "source": [
    "sm = m.copy()"
   ]
  },
  {
   "cell_type": "code",
   "execution_count": 58,
   "metadata": {
    "ExecuteTime": {
     "end_time": "2019-04-24T16:47:40.977274Z",
     "start_time": "2019-04-24T16:47:40.973626Z"
    }
   },
   "outputs": [],
   "source": [
    "bmom1m = [0 if i > 0 else 1 for i in list(sm['mom1m'])]\n",
    "# for i in range(len(sm)):\n",
    "#     bmom1m.append(sm['mom1m'].iloc[i])\n",
    "sm['bmom1m'] = bmom1m"
   ]
  },
  {
   "cell_type": "code",
   "execution_count": 60,
   "metadata": {
    "ExecuteTime": {
     "end_time": "2019-04-24T16:51:36.993918Z",
     "start_time": "2019-04-24T16:51:36.989928Z"
    }
   },
   "outputs": [],
   "source": [
    "sm.drop('mom1m', axis=1, inplace=True)"
   ]
  },
  {
   "cell_type": "code",
   "execution_count": 62,
   "metadata": {
    "ExecuteTime": {
     "end_time": "2019-04-24T16:57:57.298282Z",
     "start_time": "2019-04-24T16:57:57.290582Z"
    }
   },
   "outputs": [
    {
     "name": "stderr",
     "output_type": "stream",
     "text": [
      "/anaconda3/lib/python3.6/site-packages/sklearn/preprocessing/data.py:645: DataConversionWarning: Data with input dtype int64, float64 were all converted to float64 by StandardScaler.\n",
      "  return self.partial_fit(X, y)\n"
     ]
    },
    {
     "data": {
      "text/plain": [
       "StandardScaler(copy=True, with_mean=True, with_std=True)"
      ]
     },
     "execution_count": 62,
     "metadata": {},
     "output_type": "execute_result"
    }
   ],
   "source": [
    "from sklearn.preprocessing import StandardScaler\n",
    "scaler = StandardScaler()\n",
    "scaler.fit(sm.drop('bmom1m', axis=1))"
   ]
  },
  {
   "cell_type": "code",
   "execution_count": 63,
   "metadata": {
    "ExecuteTime": {
     "end_time": "2019-04-24T17:01:20.145778Z",
     "start_time": "2019-04-24T17:01:20.140866Z"
    }
   },
   "outputs": [
    {
     "name": "stderr",
     "output_type": "stream",
     "text": [
      "/anaconda3/lib/python3.6/site-packages/ipykernel_launcher.py:1: DataConversionWarning: Data with input dtype int64, float64 were all converted to float64 by StandardScaler.\n",
      "  \"\"\"Entry point for launching an IPython kernel.\n"
     ]
    }
   ],
   "source": [
    "scaled_features = scaler.transform(sm.drop('bmom1m', axis=1))"
   ]
  },
  {
   "cell_type": "code",
   "execution_count": 64,
   "metadata": {
    "ExecuteTime": {
     "end_time": "2019-04-24T17:02:11.344361Z",
     "start_time": "2019-04-24T17:02:11.333458Z"
    }
   },
   "outputs": [
    {
     "data": {
      "text/html": [
       "<div>\n",
       "<style scoped>\n",
       "    .dataframe tbody tr th:only-of-type {\n",
       "        vertical-align: middle;\n",
       "    }\n",
       "\n",
       "    .dataframe tbody tr th {\n",
       "        vertical-align: top;\n",
       "    }\n",
       "\n",
       "    .dataframe thead th {\n",
       "        text-align: right;\n",
       "    }\n",
       "</style>\n",
       "<table border=\"1\" class=\"dataframe\">\n",
       "  <thead>\n",
       "    <tr style=\"text-align: right;\">\n",
       "      <th></th>\n",
       "      <th>time</th>\n",
       "      <th>year</th>\n",
       "      <th>month</th>\n",
       "      <th>mom6m</th>\n",
       "      <th>mom12m</th>\n",
       "      <th>chmom</th>\n",
       "      <th>mom126m</th>\n",
       "    </tr>\n",
       "  </thead>\n",
       "  <tbody>\n",
       "    <tr>\n",
       "      <th>0</th>\n",
       "      <td>-1.727932</td>\n",
       "      <td>-1.683251</td>\n",
       "      <td>-1.593255</td>\n",
       "      <td>0.303891</td>\n",
       "      <td>0.559821</td>\n",
       "      <td>-0.349430</td>\n",
       "      <td>0.708035</td>\n",
       "    </tr>\n",
       "    <tr>\n",
       "      <th>1</th>\n",
       "      <td>-1.719684</td>\n",
       "      <td>-1.683251</td>\n",
       "      <td>-1.303572</td>\n",
       "      <td>0.583300</td>\n",
       "      <td>0.621593</td>\n",
       "      <td>-0.093865</td>\n",
       "      <td>0.870044</td>\n",
       "    </tr>\n",
       "    <tr>\n",
       "      <th>2</th>\n",
       "      <td>-1.711436</td>\n",
       "      <td>-1.683251</td>\n",
       "      <td>-1.013890</td>\n",
       "      <td>-0.813001</td>\n",
       "      <td>-1.043218</td>\n",
       "      <td>-0.104342</td>\n",
       "      <td>-1.013313</td>\n",
       "    </tr>\n",
       "    <tr>\n",
       "      <th>3</th>\n",
       "      <td>-1.703188</td>\n",
       "      <td>-1.683251</td>\n",
       "      <td>-0.724207</td>\n",
       "      <td>0.646057</td>\n",
       "      <td>0.638225</td>\n",
       "      <td>-0.554947</td>\n",
       "      <td>1.345946</td>\n",
       "    </tr>\n",
       "    <tr>\n",
       "      <th>4</th>\n",
       "      <td>-1.694940</td>\n",
       "      <td>-1.683251</td>\n",
       "      <td>-0.434524</td>\n",
       "      <td>-0.579403</td>\n",
       "      <td>-0.378906</td>\n",
       "      <td>-0.743725</td>\n",
       "      <td>-0.154747</td>\n",
       "    </tr>\n",
       "  </tbody>\n",
       "</table>\n",
       "</div>"
      ],
      "text/plain": [
       "       time      year     month     mom6m    mom12m     chmom   mom126m\n",
       "0 -1.727932 -1.683251 -1.593255  0.303891  0.559821 -0.349430  0.708035\n",
       "1 -1.719684 -1.683251 -1.303572  0.583300  0.621593 -0.093865  0.870044\n",
       "2 -1.711436 -1.683251 -1.013890 -0.813001 -1.043218 -0.104342 -1.013313\n",
       "3 -1.703188 -1.683251 -0.724207  0.646057  0.638225 -0.554947  1.345946\n",
       "4 -1.694940 -1.683251 -0.434524 -0.579403 -0.378906 -0.743725 -0.154747"
      ]
     },
     "execution_count": 64,
     "metadata": {},
     "output_type": "execute_result"
    }
   ],
   "source": [
    "sm_feat = pd.DataFrame(scaled_features, columns=sm.columns[:-1])\n",
    "sm_feat.head()"
   ]
  },
  {
   "cell_type": "code",
   "execution_count": 65,
   "metadata": {
    "ExecuteTime": {
     "end_time": "2019-04-24T17:05:14.597547Z",
     "start_time": "2019-04-24T17:05:14.593563Z"
    }
   },
   "outputs": [],
   "source": [
    "from sklearn.model_selection import train_test_split\n",
    "KX_train, KX_test, ky_train, ky_test = train_test_split(scaled_features, \n",
    "                                                        sm['bmom1m'],\n",
    "                                                       test_size=.30)"
   ]
  },
  {
   "cell_type": "code",
   "execution_count": 66,
   "metadata": {
    "ExecuteTime": {
     "end_time": "2019-04-24T17:08:39.014070Z",
     "start_time": "2019-04-24T17:08:39.008759Z"
    }
   },
   "outputs": [
    {
     "data": {
      "text/plain": [
       "KNeighborsClassifier(algorithm='auto', leaf_size=30, metric='minkowski',\n",
       "           metric_params=None, n_jobs=None, n_neighbors=1, p=2,\n",
       "           weights='uniform')"
      ]
     },
     "execution_count": 66,
     "metadata": {},
     "output_type": "execute_result"
    }
   ],
   "source": [
    "from sklearn.neighbors import KNeighborsClassifier\n",
    "knn = KNeighborsClassifier(n_neighbors=1)\n",
    "knn.fit(KX_train, ky_train)"
   ]
  },
  {
   "cell_type": "code",
   "execution_count": 67,
   "metadata": {
    "ExecuteTime": {
     "end_time": "2019-04-24T17:09:57.763101Z",
     "start_time": "2019-04-24T17:09:57.752984Z"
    }
   },
   "outputs": [],
   "source": [
    "pred = knn.predict(X_test)"
   ]
  },
  {
   "cell_type": "code",
   "execution_count": 68,
   "metadata": {
    "ExecuteTime": {
     "end_time": "2019-04-24T17:11:57.991087Z",
     "start_time": "2019-04-24T17:11:57.988667Z"
    }
   },
   "outputs": [],
   "source": [
    "from sklearn.metrics import classification_report,confusion_matrix"
   ]
  },
  {
   "cell_type": "code",
   "execution_count": 70,
   "metadata": {
    "ExecuteTime": {
     "end_time": "2019-04-24T17:12:33.101727Z",
     "start_time": "2019-04-24T17:12:33.097290Z"
    }
   },
   "outputs": [
    {
     "name": "stdout",
     "output_type": "stream",
     "text": [
      "[[44  0]\n",
      " [81  1]]\n"
     ]
    }
   ],
   "source": [
    "print(confusion_matrix(ky_test, pred))"
   ]
  },
  {
   "cell_type": "code",
   "execution_count": 87,
   "metadata": {
    "ExecuteTime": {
     "end_time": "2019-04-24T17:52:01.283334Z",
     "start_time": "2019-04-24T17:52:01.276112Z"
    }
   },
   "outputs": [
    {
     "name": "stdout",
     "output_type": "stream",
     "text": [
      "              precision    recall  f1-score   support\n",
      "\n",
      "           0       0.67      0.50      0.57        44\n",
      "           1       0.76      0.87      0.81        82\n",
      "\n",
      "   micro avg       0.74      0.74      0.74       126\n",
      "   macro avg       0.72      0.68      0.69       126\n",
      "weighted avg       0.73      0.74      0.73       126\n",
      "\n"
     ]
    },
    {
     "data": {
      "text/plain": [
       "(126, 7)"
      ]
     },
     "execution_count": 87,
     "metadata": {},
     "output_type": "execute_result"
    }
   ],
   "source": [
    "print(classification_report(ky_test, pred))\n",
    "KX_test.shape"
   ]
  },
  {
   "cell_type": "code",
   "execution_count": 84,
   "metadata": {
    "ExecuteTime": {
     "end_time": "2019-04-24T17:49:37.590411Z",
     "start_time": "2019-04-24T17:49:37.152039Z"
    }
   },
   "outputs": [],
   "source": [
    "error_rate = []\n",
    "\n",
    "# Will take some time\n",
    "for i in range(1,100):\n",
    "    \n",
    "    knn = KNeighborsClassifier(n_neighbors=i)\n",
    "    knn.fit(KX_train,ky_train)\n",
    "    pred_i = knn.predict(KX_test)\n",
    "    error_rate.append(np.mean(pred_i != ky_test))"
   ]
  },
  {
   "cell_type": "code",
   "execution_count": 86,
   "metadata": {
    "ExecuteTime": {
     "end_time": "2019-04-24T17:50:08.896882Z",
     "start_time": "2019-04-24T17:50:08.748149Z"
    }
   },
   "outputs": [
    {
     "name": "stdout",
     "output_type": "stream",
     "text": [
      "[0.2857142857142857, 0.31746031746031744, 0.2619047619047619, 0.2698412698412698, 0.30158730158730157, 0.2857142857142857, 0.2777777777777778, 0.2857142857142857, 0.2857142857142857, 0.2698412698412698, 0.29365079365079366, 0.2857142857142857, 0.2777777777777778, 0.2857142857142857, 0.2857142857142857, 0.2857142857142857, 0.3333333333333333, 0.3253968253968254, 0.30952380952380953, 0.30952380952380953, 0.29365079365079366, 0.29365079365079366, 0.30158730158730157, 0.29365079365079366, 0.2857142857142857, 0.2857142857142857, 0.29365079365079366, 0.30158730158730157, 0.29365079365079366, 0.30158730158730157, 0.30158730158730157, 0.2857142857142857, 0.30158730158730157, 0.30952380952380953, 0.30158730158730157, 0.30952380952380953, 0.30158730158730157, 0.30952380952380953, 0.30952380952380953, 0.31746031746031744, 0.3253968253968254, 0.31746031746031744, 0.3253968253968254, 0.30158730158730157, 0.3253968253968254, 0.30158730158730157, 0.30158730158730157, 0.30158730158730157, 0.31746031746031744, 0.2857142857142857, 0.31746031746031744, 0.30158730158730157, 0.31746031746031744, 0.29365079365079366, 0.30952380952380953, 0.30952380952380953, 0.30952380952380953, 0.30158730158730157, 0.30158730158730157, 0.30158730158730157, 0.31746031746031744, 0.31746031746031744, 0.30952380952380953, 0.30952380952380953, 0.31746031746031744, 0.30952380952380953, 0.30952380952380953, 0.30158730158730157, 0.30952380952380953, 0.30158730158730157, 0.3253968253968254, 0.31746031746031744, 0.31746031746031744, 0.29365079365079366, 0.30952380952380953, 0.30158730158730157, 0.31746031746031744, 0.30158730158730157, 0.31746031746031744, 0.30952380952380953, 0.30952380952380953, 0.30952380952380953, 0.30158730158730157, 0.30158730158730157, 0.30158730158730157, 0.30952380952380953, 0.30952380952380953, 0.30952380952380953, 0.31746031746031744, 0.31746031746031744, 0.31746031746031744, 0.31746031746031744, 0.31746031746031744, 0.31746031746031744, 0.31746031746031744, 0.31746031746031744, 0.30952380952380953, 0.30952380952380953, 0.31746031746031744]\n"
     ]
    },
    {
     "data": {
      "text/plain": [
       "Text(0, 0.5, 'Error Rate')"
      ]
     },
     "execution_count": 86,
     "metadata": {},
     "output_type": "execute_result"
    },
    {
     "data": {
      "image/png": "[encoded data removed]",
      "text/plain": [
       "<Figure size 720x432 with 1 Axes>"
      ]
     },
     "metadata": {
      "needs_background": "light"
     },
     "output_type": "display_data"
    }
   ],
   "source": [
    "plt.figure(figsize=(10,6))\n",
    "plt.plot(range(1,100),error_rate,color='blue', \n",
    "         linestyle='dashed', marker='o',\n",
    "         markerfacecolor='red', markersize=10)\n",
    "plt.title('Error Rate vs. K Value')\n",
    "plt.xlabel('K')\n",
    "plt.ylabel('Error Rate')"
   ]
  },
  {
   "cell_type": "code",
   "execution_count": 74,
   "metadata": {
    "ExecuteTime": {
     "end_time": "2019-04-24T17:15:52.793629Z",
     "start_time": "2019-04-24T17:15:52.780448Z"
    }
   },
   "outputs": [
    {
     "name": "stdout",
     "output_type": "stream",
     "text": [
      "[[22 22]\n",
      " [11 71]]\n",
      "              precision    recall  f1-score   support\n",
      "\n",
      "           0       0.67      0.50      0.57        44\n",
      "           1       0.76      0.87      0.81        82\n",
      "\n",
      "   micro avg       0.74      0.74      0.74       126\n",
      "   macro avg       0.72      0.68      0.69       126\n",
      "weighted avg       0.73      0.74      0.73       126\n",
      "\n"
     ]
    }
   ],
   "source": [
    "knn = KNeighborsClassifier(n_neighbors=3)\n",
    "\n",
    "knn.fit(KX_train, ky_train)\n",
    "pred = knn.predict(KX_test)\n",
    "\n",
    "print(confusion_matrix(ky_test,pred))\n",
    "print(classification_report(ky_test,pred))"
   ]
  },
  {
   "cell_type": "code",
   "execution_count": null,
   "metadata": {},
   "outputs": [],
   "source": []
  },
  {
   "cell_type": "code",
   "execution_count": null,
   "metadata": {},
   "outputs": [],
   "source": []
  },
  {
   "cell_type": "code",
   "execution_count": null,
   "metadata": {},
   "outputs": [],
   "source": []
  },
  {
   "cell_type": "code",
   "execution_count": null,
   "metadata": {},
   "outputs": [],
   "source": []
  },
  {
   "cell_type": "code",
   "execution_count": 33,
   "metadata": {
    "ExecuteTime": {
     "end_time": "2019-04-24T16:16:02.888553Z",
     "start_time": "2019-04-24T16:16:02.883924Z"
    }
   },
   "outputs": [],
   "source": [
    "X = m.drop(['mom1m'], axis=1)\n",
    "y = m['mom1m']"
   ]
  },
  {
   "cell_type": "code",
   "execution_count": 34,
   "metadata": {
    "ExecuteTime": {
     "end_time": "2019-04-24T16:16:02.904457Z",
     "start_time": "2019-04-24T16:16:02.890302Z"
    }
   },
   "outputs": [],
   "source": [
    "from sklearn.model_selection import train_test_split\n",
    "X_train, X_test, y_train, y_test = train_test_split(X, y, \n",
    "                                                    test_size=.30, \n",
    "                                                    random_state=101)"
   ]
  },
  {
   "cell_type": "code",
   "execution_count": 35,
   "metadata": {
    "ExecuteTime": {
     "end_time": "2019-04-24T16:16:02.938209Z",
     "start_time": "2019-04-24T16:16:02.906063Z"
    }
   },
   "outputs": [],
   "source": [
    "from sklearn.linear_model import LinearRegression"
   ]
  },
  {
   "cell_type": "code",
   "execution_count": 36,
   "metadata": {
    "ExecuteTime": {
     "end_time": "2019-04-24T16:16:02.949510Z",
     "start_time": "2019-04-24T16:16:02.939773Z"
    }
   },
   "outputs": [
    {
     "data": {
      "text/plain": [
       "LinearRegression(copy_X=True, fit_intercept=True, n_jobs=None,\n",
       "         normalize=False)"
      ]
     },
     "execution_count": 36,
     "metadata": {},
     "output_type": "execute_result"
    }
   ],
   "source": [
    "lm = LinearRegression()\n",
    "lm.fit(X_train, y_train)"
   ]
  },
  {
   "cell_type": "code",
   "execution_count": 37,
   "metadata": {
    "ExecuteTime": {
     "end_time": "2019-04-24T16:16:02.954854Z",
     "start_time": "2019-04-24T16:16:02.951175Z"
    }
   },
   "outputs": [
    {
     "data": {
      "text/plain": [
       "792064930375.6459"
      ]
     },
     "execution_count": 37,
     "metadata": {},
     "output_type": "execute_result"
    }
   ],
   "source": [
    "lm.intercept_"
   ]
  },
  {
   "cell_type": "code",
   "execution_count": 38,
   "metadata": {
    "ExecuteTime": {
     "end_time": "2019-04-24T16:16:02.962933Z",
     "start_time": "2019-04-24T16:16:02.956448Z"
    }
   },
   "outputs": [
    {
     "data": {
      "text/html": [
       "<div>\n",
       "<style scoped>\n",
       "    .dataframe tbody tr th:only-of-type {\n",
       "        vertical-align: middle;\n",
       "    }\n",
       "\n",
       "    .dataframe tbody tr th {\n",
       "        vertical-align: top;\n",
       "    }\n",
       "\n",
       "    .dataframe thead th {\n",
       "        text-align: right;\n",
       "    }\n",
       "</style>\n",
       "<table border=\"1\" class=\"dataframe\">\n",
       "  <thead>\n",
       "    <tr style=\"text-align: right;\">\n",
       "      <th></th>\n",
       "      <th>0</th>\n",
       "    </tr>\n",
       "  </thead>\n",
       "  <tbody>\n",
       "    <tr>\n",
       "      <th>time</th>\n",
       "      <td>3.333466e+07</td>\n",
       "    </tr>\n",
       "    <tr>\n",
       "      <th>year</th>\n",
       "      <td>-4.000160e+08</td>\n",
       "    </tr>\n",
       "    <tr>\n",
       "      <th>month</th>\n",
       "      <td>-3.333466e+07</td>\n",
       "    </tr>\n",
       "    <tr>\n",
       "      <th>mom6m</th>\n",
       "      <td>1.919268e+04</td>\n",
       "    </tr>\n",
       "    <tr>\n",
       "      <th>mom12m</th>\n",
       "      <td>1.213004e+00</td>\n",
       "    </tr>\n",
       "    <tr>\n",
       "      <th>chmom</th>\n",
       "      <td>-1.919254e+04</td>\n",
       "    </tr>\n",
       "    <tr>\n",
       "      <th>mom126m</th>\n",
       "      <td>-1.919402e+04</td>\n",
       "    </tr>\n",
       "  </tbody>\n",
       "</table>\n",
       "</div>"
      ],
      "text/plain": [
       "                    0\n",
       "time     3.333466e+07\n",
       "year    -4.000160e+08\n",
       "month   -3.333466e+07\n",
       "mom6m    1.919268e+04\n",
       "mom12m   1.213004e+00\n",
       "chmom   -1.919254e+04\n",
       "mom126m -1.919402e+04"
      ]
     },
     "execution_count": 38,
     "metadata": {},
     "output_type": "execute_result"
    }
   ],
   "source": [
    "coeff_df = pd.DataFrame(lm.coef_, X.columns)\n",
    "coeff_df"
   ]
  },
  {
   "cell_type": "code",
   "execution_count": 39,
   "metadata": {
    "ExecuteTime": {
     "end_time": "2019-04-24T16:16:02.967742Z",
     "start_time": "2019-04-24T16:16:02.964376Z"
    }
   },
   "outputs": [],
   "source": [
    "predictions = lm.predict(X_test)"
   ]
  },
  {
   "cell_type": "code",
   "execution_count": 40,
   "metadata": {
    "ExecuteTime": {
     "end_time": "2019-04-24T16:16:03.079932Z",
     "start_time": "2019-04-24T16:16:02.969355Z"
    }
   },
   "outputs": [
    {
     "data": {
      "text/plain": [
       "<matplotlib.axes._subplots.AxesSubplot at 0x1a2a35ba58>"
      ]
     },
     "execution_count": 40,
     "metadata": {},
     "output_type": "execute_result"
    },
    {
     "data": {
      "image/png": "[encoded data removed]",
      "text/plain": [
       "<Figure size 432x288 with 1 Axes>"
      ]
     },
     "metadata": {
      "needs_background": "light"
     },
     "output_type": "display_data"
    }
   ],
   "source": [
    "sns.scatterplot(y_test,predictions)"
   ]
  },
  {
   "cell_type": "code",
   "execution_count": 41,
   "metadata": {
    "ExecuteTime": {
     "end_time": "2019-04-24T16:16:03.231462Z",
     "start_time": "2019-04-24T16:16:03.081593Z"
    }
   },
   "outputs": [
    {
     "data": {
      "image/png": "[encoded data removed]",
      "text/plain": [
       "<Figure size 432x288 with 1 Axes>"
      ]
     },
     "metadata": {
      "needs_background": "light"
     },
     "output_type": "display_data"
    }
   ],
   "source": [
    "sns.distplot((y_test-predictions));"
   ]
  },
  {
   "cell_type": "code",
   "execution_count": 42,
   "metadata": {
    "ExecuteTime": {
     "end_time": "2019-04-24T16:16:03.235861Z",
     "start_time": "2019-04-24T16:16:03.233150Z"
    }
   },
   "outputs": [],
   "source": [
    "from sklearn import metrics"
   ]
  },
  {
   "cell_type": "code",
   "execution_count": 43,
   "metadata": {
    "ExecuteTime": {
     "end_time": "2019-04-24T16:16:03.244813Z",
     "start_time": "2019-04-24T16:16:03.237881Z"
    }
   },
   "outputs": [
    {
     "name": "stdout",
     "output_type": "stream",
     "text": [
      "MAE: 0.020159518076388893\n",
      "MSE: 0.0010841011809668592\n",
      "RMSE: 0.03292569180695919\n"
     ]
    }
   ],
   "source": [
    "print('MAE:', metrics.mean_absolute_error(y_test, predictions))\n",
    "print('MSE:', metrics.mean_squared_error(y_test, predictions))\n",
    "print('RMSE:', np.sqrt(metrics.mean_squared_error(y_test, predictions)))"
   ]
  },
  {
   "cell_type": "code",
   "execution_count": 44,
   "metadata": {
    "ExecuteTime": {
     "end_time": "2019-04-24T16:16:03.249425Z",
     "start_time": "2019-04-24T16:16:03.246569Z"
    }
   },
   "outputs": [],
   "source": [
    "pm = m.copy()"
   ]
  },
  {
   "cell_type": "code",
   "execution_count": null,
   "metadata": {
    "ExecuteTime": {
     "end_time": "2019-04-22T20:57:56.760524Z",
     "start_time": "2019-04-22T20:57:56.735825Z"
    }
   },
   "outputs": [],
   "source": []
  },
  {
   "cell_type": "code",
   "execution_count": 45,
   "metadata": {
    "ExecuteTime": {
     "end_time": "2019-04-24T16:16:03.280066Z",
     "start_time": "2019-04-24T16:16:03.251254Z"
    }
   },
   "outputs": [],
   "source": [
    "pmom1m = []\n",
    "pmom6m = []\n",
    "pmom12m = []\n",
    "pchmom = []\n",
    "pmom126m = []\n",
    "\n",
    "count = 0\n",
    "\n",
    "for i in range(len(pm)):\n",
    "    count += 1\n",
    "    pmom1m.append(pm['mom1m'].iloc[i] * 100)\n",
    "    pmom6m.append(pm['mom6m'].iloc[i] * 100)\n",
    "    pmom12m.append(pm['mom12m'].iloc[i] * 100)\n",
    "    pchmom.append(pm['chmom'].iloc[i] * 100)\n",
    "    pmom126m.append(pm['mom126m'].iloc[i] * 100)\n",
    "\n",
    "pm['pmom1m'] = pmom1m\n",
    "pm['pmom6m'] = pmom6m\n",
    "pm['pmom12m'] = pmom12m\n",
    "pm['pchmom'] = pchmom\n",
    "pm['pmom126m'] = pmom126m"
   ]
  },
  {
   "cell_type": "code",
   "execution_count": 46,
   "metadata": {
    "ExecuteTime": {
     "end_time": "2019-04-24T16:16:03.293204Z",
     "start_time": "2019-04-24T16:16:03.281471Z"
    }
   },
   "outputs": [
    {
     "data": {
      "text/html": [
       "<div>\n",
       "<style scoped>\n",
       "    .dataframe tbody tr th:only-of-type {\n",
       "        vertical-align: middle;\n",
       "    }\n",
       "\n",
       "    .dataframe tbody tr th {\n",
       "        vertical-align: top;\n",
       "    }\n",
       "\n",
       "    .dataframe thead th {\n",
       "        text-align: right;\n",
       "    }\n",
       "</style>\n",
       "<table border=\"1\" class=\"dataframe\">\n",
       "  <thead>\n",
       "    <tr style=\"text-align: right;\">\n",
       "      <th></th>\n",
       "      <th>time</th>\n",
       "      <th>year</th>\n",
       "      <th>month</th>\n",
       "      <th>mom1m</th>\n",
       "      <th>mom6m</th>\n",
       "      <th>mom12m</th>\n",
       "      <th>chmom</th>\n",
       "      <th>mom126m</th>\n",
       "      <th>pmom1m</th>\n",
       "      <th>pmom6m</th>\n",
       "      <th>pmom12m</th>\n",
       "      <th>pchmom</th>\n",
       "      <th>pmom126m</th>\n",
       "    </tr>\n",
       "  </thead>\n",
       "  <tbody>\n",
       "    <tr>\n",
       "      <th>0</th>\n",
       "      <td>0</td>\n",
       "      <td>1980</td>\n",
       "      <td>1</td>\n",
       "      <td>-0.019036</td>\n",
       "      <td>0.023017</td>\n",
       "      <td>0.043283</td>\n",
       "      <td>-0.019630</td>\n",
       "      <td>0.042647</td>\n",
       "      <td>-1.903564</td>\n",
       "      <td>2.301678</td>\n",
       "      <td>4.328334</td>\n",
       "      <td>-1.963001</td>\n",
       "      <td>4.264679</td>\n",
       "    </tr>\n",
       "    <tr>\n",
       "      <th>1</th>\n",
       "      <td>1</td>\n",
       "      <td>1980</td>\n",
       "      <td>2</td>\n",
       "      <td>-0.011720</td>\n",
       "      <td>0.039917</td>\n",
       "      <td>0.047276</td>\n",
       "      <td>-0.009961</td>\n",
       "      <td>0.049878</td>\n",
       "      <td>-1.172046</td>\n",
       "      <td>3.991671</td>\n",
       "      <td>4.727634</td>\n",
       "      <td>-0.996092</td>\n",
       "      <td>4.987763</td>\n",
       "    </tr>\n",
       "    <tr>\n",
       "      <th>2</th>\n",
       "      <td>2</td>\n",
       "      <td>1980</td>\n",
       "      <td>3</td>\n",
       "      <td>-0.059039</td>\n",
       "      <td>-0.044538</td>\n",
       "      <td>-0.060338</td>\n",
       "      <td>-0.010357</td>\n",
       "      <td>-0.034181</td>\n",
       "      <td>-5.903874</td>\n",
       "      <td>-4.453789</td>\n",
       "      <td>-6.033782</td>\n",
       "      <td>-1.035732</td>\n",
       "      <td>-3.418057</td>\n",
       "    </tr>\n",
       "    <tr>\n",
       "      <th>3</th>\n",
       "      <td>3</td>\n",
       "      <td>1980</td>\n",
       "      <td>4</td>\n",
       "      <td>-0.039296</td>\n",
       "      <td>0.043713</td>\n",
       "      <td>0.048351</td>\n",
       "      <td>-0.027406</td>\n",
       "      <td>0.071118</td>\n",
       "      <td>-3.929560</td>\n",
       "      <td>4.371252</td>\n",
       "      <td>4.835142</td>\n",
       "      <td>-2.740559</td>\n",
       "      <td>7.111811</td>\n",
       "    </tr>\n",
       "    <tr>\n",
       "      <th>4</th>\n",
       "      <td>4</td>\n",
       "      <td>1980</td>\n",
       "      <td>5</td>\n",
       "      <td>-0.039749</td>\n",
       "      <td>-0.030409</td>\n",
       "      <td>-0.017396</td>\n",
       "      <td>-0.034548</td>\n",
       "      <td>0.004139</td>\n",
       "      <td>-3.974892</td>\n",
       "      <td>-3.040883</td>\n",
       "      <td>-1.739642</td>\n",
       "      <td>-3.454786</td>\n",
       "      <td>0.413903</td>\n",
       "    </tr>\n",
       "  </tbody>\n",
       "</table>\n",
       "</div>"
      ],
      "text/plain": [
       "   time  year  month     mom1m     mom6m    mom12m     chmom   mom126m  \\\n",
       "0     0  1980      1 -0.019036  0.023017  0.043283 -0.019630  0.042647   \n",
       "1     1  1980      2 -0.011720  0.039917  0.047276 -0.009961  0.049878   \n",
       "2     2  1980      3 -0.059039 -0.044538 -0.060338 -0.010357 -0.034181   \n",
       "3     3  1980      4 -0.039296  0.043713  0.048351 -0.027406  0.071118   \n",
       "4     4  1980      5 -0.039749 -0.030409 -0.017396 -0.034548  0.004139   \n",
       "\n",
       "     pmom1m    pmom6m   pmom12m    pchmom  pmom126m  \n",
       "0 -1.903564  2.301678  4.328334 -1.963001  4.264679  \n",
       "1 -1.172046  3.991671  4.727634 -0.996092  4.987763  \n",
       "2 -5.903874 -4.453789 -6.033782 -1.035732 -3.418057  \n",
       "3 -3.929560  4.371252  4.835142 -2.740559  7.111811  \n",
       "4 -3.974892 -3.040883 -1.739642 -3.454786  0.413903  "
      ]
     },
     "execution_count": 46,
     "metadata": {},
     "output_type": "execute_result"
    }
   ],
   "source": [
    "pm.head()"
   ]
  },
  {
   "cell_type": "code",
   "execution_count": 47,
   "metadata": {
    "ExecuteTime": {
     "end_time": "2019-04-24T16:16:03.297796Z",
     "start_time": "2019-04-24T16:16:03.294482Z"
    }
   },
   "outputs": [],
   "source": [
    "pm.drop(['mom1m', 'mom6m', 'mom12m', 'chmom', 'mom126m'], axis=1, inplace=True)"
   ]
  },
  {
   "cell_type": "code",
   "execution_count": null,
   "metadata": {},
   "outputs": [],
   "source": []
  },
  {
   "cell_type": "code",
   "execution_count": 48,
   "metadata": {
    "ExecuteTime": {
     "end_time": "2019-04-24T16:16:03.300695Z",
     "start_time": "2019-04-24T16:16:03.298919Z"
    }
   },
   "outputs": [],
   "source": [
    "# features = d.columns\n",
    "# x = d[features]\n",
    "# y = d['mom1m']\n",
    "# x = StandardScaler().fit_transform(x)"
   ]
  },
  {
   "cell_type": "code",
   "execution_count": 49,
   "metadata": {
    "ExecuteTime": {
     "end_time": "2019-04-24T16:16:03.304219Z",
     "start_time": "2019-04-24T16:16:03.302293Z"
    }
   },
   "outputs": [],
   "source": [
    "# from sklearn.decomposition import PCA\n",
    "# pca = PCA(n_components=2)\n",
    "# principalComponents = pca.fit_transform(x)\n",
    "# principalDf = pd.DataFrame(data = principalComponents, \n",
    "#                            columns = ['principal component 1', \n",
    "#                                       'principal component 2'])"
   ]
  },
  {
   "cell_type": "code",
   "execution_count": 50,
   "metadata": {
    "ExecuteTime": {
     "end_time": "2019-04-24T16:16:03.307557Z",
     "start_time": "2019-04-24T16:16:03.305601Z"
    }
   },
   "outputs": [],
   "source": [
    "# finalDf = pd.concat([principalDf, d[['mom1m']]], axis = 1)"
   ]
  },
  {
   "cell_type": "code",
   "execution_count": 51,
   "metadata": {
    "ExecuteTime": {
     "end_time": "2019-04-24T16:16:03.310586Z",
     "start_time": "2019-04-24T16:16:03.308773Z"
    }
   },
   "outputs": [],
   "source": [
    "# sns.scatterplot(x=principalDf['principal component 1'], \n",
    "#                 y=principalDf['principal component 2'])"
   ]
  },
  {
   "cell_type": "code",
   "execution_count": null,
   "metadata": {},
   "outputs": [],
   "source": [
    "sm.to_csv()"
   ]
  }
 ],
 "metadata": {
  "kernelspec": {
   "display_name": "Python 3",
   "language": "python",
   "name": "python3"
  },
  "language_info": {
   "codemirror_mode": {
    "name": "ipython",
    "version": 3
   },
   "file_extension": ".py",
   "mimetype": "text/x-python",
   "name": "python",
   "nbconvert_exporter": "python",
   "pygments_lexer": "ipython3",
   "version": "3.6.9"
  }
 },
 "nbformat": 4,
 "nbformat_minor": 4
}
