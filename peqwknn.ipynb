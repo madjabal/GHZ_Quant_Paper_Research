{
 "cells": [
  {
   "cell_type": "code",
   "execution_count": 1,
   "metadata": {
    "ExecuteTime": {
     "end_time": "2019-04-24T22:59:17.272373Z",
     "start_time": "2019-04-24T22:59:15.927157Z"
    }
   },
   "outputs": [],
   "source": [
    "import numpy as np\n",
    "import pandas as pd\n",
    "import matplotlib.pyplot as plt\n",
    "import seaborn as sns\n",
    "%matplotlib inline\n",
    "\n",
    "import torch\n",
    "import torchvision\n",
    "from torch import nn\n",
    "from torch import optim\n",
    "import torch.nn.functional as F\n",
    "from torch.autograd import Variable\n",
    "from torch.utils.data import DataLoader\n",
    "from torchvision import transforms\n",
    "from torchvision.utils import save_image\n",
    "from torchvision.datasets import MNIST\n",
    "\n",
    "from sklearn import preprocessing\n",
    "\n",
    "import os\n",
    "import gc\n",
    "import sys"
   ]
  },
  {
   "cell_type": "code",
   "execution_count": 2,
   "metadata": {
    "ExecuteTime": {
     "end_time": "2019-04-24T22:59:46.000360Z",
     "start_time": "2019-04-24T22:59:45.975885Z"
    }
   },
   "outputs": [],
   "source": [
    "d = pd.read_csv('peqw.csv')"
   ]
  },
  {
   "cell_type": "code",
   "execution_count": 4,
   "metadata": {
    "ExecuteTime": {
     "end_time": "2019-04-24T23:00:06.278399Z",
     "start_time": "2019-04-24T23:00:06.273467Z"
    }
   },
   "outputs": [],
   "source": [
    "d.rename(index=str, columns = {'Unnamed: 0':'time'}, inplace=True)"
   ]
  },
  {
   "cell_type": "code",
   "execution_count": 28,
   "metadata": {
    "ExecuteTime": {
     "end_time": "2019-04-24T23:10:16.976055Z",
     "start_time": "2019-04-24T23:10:16.972955Z"
    }
   },
   "outputs": [
    {
     "data": {
      "text/plain": [
       "(420, 105)"
      ]
     },
     "execution_count": 28,
     "metadata": {},
     "output_type": "execute_result"
    }
   ],
   "source": [
    "d.head()\n",
    "d.shape"
   ]
  },
  {
   "cell_type": "code",
   "execution_count": 6,
   "metadata": {
    "ExecuteTime": {
     "end_time": "2019-04-24T23:01:04.706575Z",
     "start_time": "2019-04-24T23:01:04.703567Z"
    }
   },
   "outputs": [],
   "source": [
    "bmom1m = [0 if i < 0 else 1 for i in d['mom1m']]"
   ]
  },
  {
   "cell_type": "code",
   "execution_count": 10,
   "metadata": {
    "ExecuteTime": {
     "end_time": "2019-04-24T23:01:44.291884Z",
     "start_time": "2019-04-24T23:01:44.288251Z"
    }
   },
   "outputs": [],
   "source": [
    "d['bmom1m'] = bmom1m"
   ]
  },
  {
   "cell_type": "code",
   "execution_count": 11,
   "metadata": {
    "ExecuteTime": {
     "end_time": "2019-04-24T23:02:05.820511Z",
     "start_time": "2019-04-24T23:02:05.815820Z"
    }
   },
   "outputs": [],
   "source": [
    "d.drop('mom1m', axis=1, inplace=True)"
   ]
  },
  {
   "cell_type": "code",
   "execution_count": 12,
   "metadata": {
    "ExecuteTime": {
     "end_time": "2019-04-24T23:02:27.007508Z",
     "start_time": "2019-04-24T23:02:27.005073Z"
    }
   },
   "outputs": [],
   "source": [
    "from sklearn.preprocessing import StandardScaler\n",
    "scaler = StandardScaler()"
   ]
  },
  {
   "cell_type": "code",
   "execution_count": 15,
   "metadata": {
    "ExecuteTime": {
     "end_time": "2019-04-24T23:04:27.805962Z",
     "start_time": "2019-04-24T23:04:27.798278Z"
    }
   },
   "outputs": [
    {
     "name": "stderr",
     "output_type": "stream",
     "text": [
      "/anaconda3/lib/python3.6/site-packages/sklearn/preprocessing/data.py:645: DataConversionWarning: Data with input dtype int64, float64 were all converted to float64 by StandardScaler.\n",
      "  return self.partial_fit(X, y)\n"
     ]
    },
    {
     "data": {
      "text/plain": [
       "StandardScaler(copy=True, with_mean=True, with_std=True)"
      ]
     },
     "execution_count": 15,
     "metadata": {},
     "output_type": "execute_result"
    }
   ],
   "source": [
    "scaler.fit(d.drop('bmom1m', axis=1))"
   ]
  },
  {
   "cell_type": "code",
   "execution_count": null,
   "metadata": {
    "ExecuteTime": {
     "end_time": "2019-04-29T16:59:07.958500Z",
     "start_time": "2019-04-29T16:59:07.936027Z"
    }
   },
   "outputs": [],
   "source": []
  },
  {
   "cell_type": "code",
   "execution_count": 20,
   "metadata": {
    "ExecuteTime": {
     "end_time": "2019-04-24T23:05:29.003904Z",
     "start_time": "2019-04-24T23:05:28.997427Z"
    }
   },
   "outputs": [
    {
     "name": "stderr",
     "output_type": "stream",
     "text": [
      "/anaconda3/lib/python3.6/site-packages/ipykernel_launcher.py:1: DataConversionWarning: Data with input dtype int64, float64 were all converted to float64 by StandardScaler.\n",
      "  \"\"\"Entry point for launching an IPython kernel.\n"
     ]
    }
   ],
   "source": [
    "scaled_feat = scaler.transform(d.drop('bmom1m', axis=1))\n",
    "d_feat = pd.DataFrame(scaled_feat, columns=list(d.columns).remove('bmom1m'))"
   ]
  },
  {
   "cell_type": "code",
   "execution_count": 123,
   "metadata": {
    "ExecuteTime": {
     "end_time": "2019-04-29T16:59:26.387142Z",
     "start_time": "2019-04-29T16:59:26.381519Z"
    }
   },
   "outputs": [],
   "source": [
    "from sklearn.model_selection import train_test_split\n",
    "X_train, X_test, y_train, y_test = train_test_split(scaled_feat,\n",
    "                                                    d['bmom1m'],\n",
    "                                                    test_size=0.30)"
   ]
  },
  {
   "cell_type": "code",
   "execution_count": 129,
   "metadata": {
    "ExecuteTime": {
     "end_time": "2019-04-29T17:07:36.219015Z",
     "start_time": "2019-04-29T17:07:36.216798Z"
    }
   },
   "outputs": [],
   "source": [
    "from sklearn.ensemble import GradientBoostingClassifier"
   ]
  },
  {
   "cell_type": "code",
   "execution_count": 186,
   "metadata": {
    "ExecuteTime": {
     "end_time": "2019-04-29T19:03:17.743723Z",
     "start_time": "2019-04-29T19:03:17.524430Z"
    }
   },
   "outputs": [],
   "source": [
    "gbc = GradientBoostingClassifier(random_state=101, learning_rate=.04)\n",
    "gbc.fit(X_train, y_train)\n",
    "gp = gbc.predict(X_test)"
   ]
  },
  {
   "cell_type": "code",
   "execution_count": 187,
   "metadata": {
    "ExecuteTime": {
     "end_time": "2019-04-29T19:03:18.204516Z",
     "start_time": "2019-04-29T19:03:18.196552Z"
    }
   },
   "outputs": [
    {
     "name": "stdout",
     "output_type": "stream",
     "text": [
      "              precision    recall  f1-score   support\n",
      "\n",
      "           0       0.81      0.81      0.81        85\n",
      "           1       0.61      0.61      0.61        41\n",
      "\n",
      "   micro avg       0.75      0.75      0.75       126\n",
      "   macro avg       0.71      0.71      0.71       126\n",
      "weighted avg       0.75      0.75      0.75       126\n",
      "\n",
      "[[69 16]\n",
      " [16 25]]\n"
     ]
    }
   ],
   "source": [
    "print(classification_report(y_test, gp))\n",
    "print(confusion_matrix(y_test, gp))"
   ]
  },
  {
   "cell_type": "code",
   "execution_count": 307,
   "metadata": {
    "ExecuteTime": {
     "end_time": "2019-04-29T19:43:45.965843Z",
     "start_time": "2019-04-29T19:43:45.961856Z"
    }
   },
   "outputs": [],
   "source": [
    "t = 4\n",
    "est = t * 10\n",
    "est_rate = t\n",
    "\n",
    "cons = [.01, .1]\n",
    "over = [.001, 0.01, 0.02, 0.05, 0.075, 0.1, .15]\n",
    "\n",
    "wide = list(range(est_rate, est, est_rate))\n",
    "pres = list(range(1,est))\n",
    "\n",
    "b_grid = {\n",
    "    \"learning_rate\": cons, \n",
    "    \"n_estimators\": wide,\n",
    "    \"random_state\" : [101]\n",
    "}"
   ]
  },
  {
   "cell_type": "code",
   "execution_count": 308,
   "metadata": {
    "ExecuteTime": {
     "end_time": "2019-04-29T19:43:46.644763Z",
     "start_time": "2019-04-29T19:43:46.641934Z"
    }
   },
   "outputs": [],
   "source": [
    "from sklearn.model_selection import GridSearchCV\n",
    "bgrid = GridSearchCV(GradientBoostingClassifier(),\n",
    "                     b_grid,\n",
    "                     refit=True,\n",
    "                     verbose=3, \n",
    "                     n_jobs=36)"
   ]
  },
  {
   "cell_type": "code",
   "execution_count": 309,
   "metadata": {
    "ExecuteTime": {
     "end_time": "2019-04-29T19:43:48.103799Z",
     "start_time": "2019-04-29T19:43:47.649889Z"
    }
   },
   "outputs": [
    {
     "name": "stderr",
     "output_type": "stream",
     "text": [
      "/anaconda3/lib/python3.6/site-packages/sklearn/model_selection/_split.py:2053: FutureWarning: You should specify a value for 'cv' instead of relying on the default value. The default value will change from 3 to 5 in version 0.22.\n",
      "  warnings.warn(CV_WARNING, FutureWarning)\n",
      "[Parallel(n_jobs=36)]: Using backend LokyBackend with 36 concurrent workers.\n",
      "[Parallel(n_jobs=36)]: Done   2 out of  54 | elapsed:    0.0s remaining:    1.1s\n",
      "[Parallel(n_jobs=36)]: Done  21 out of  54 | elapsed:    0.2s remaining:    0.3s\n"
     ]
    },
    {
     "name": "stdout",
     "output_type": "stream",
     "text": [
      "Fitting 3 folds for each of 18 candidates, totalling 54 fits\n"
     ]
    },
    {
     "name": "stderr",
     "output_type": "stream",
     "text": [
      "[Parallel(n_jobs=36)]: Done  40 out of  54 | elapsed:    0.3s remaining:    0.1s\n",
      "[Parallel(n_jobs=36)]: Done  54 out of  54 | elapsed:    0.4s finished\n"
     ]
    },
    {
     "data": {
      "text/plain": [
       "GridSearchCV(cv='warn', error_score='raise-deprecating',\n",
       "       estimator=GradientBoostingClassifier(criterion='friedman_mse', init=None,\n",
       "              learning_rate=0.1, loss='deviance', max_depth=3,\n",
       "              max_features=None, max_leaf_nodes=None,\n",
       "              min_impurity_decrease=0.0, min_impurity_split=None,\n",
       "              min_samples_leaf=1, min_sampl...      subsample=1.0, tol=0.0001, validation_fraction=0.1,\n",
       "              verbose=0, warm_start=False),\n",
       "       fit_params=None, iid='warn', n_jobs=36,\n",
       "       param_grid={'learning_rate': [0.01, 0.1], 'n_estimators': [4, 8, 12, 16, 20, 24, 28, 32, 36], 'random_state': [101]},\n",
       "       pre_dispatch='2*n_jobs', refit=True, return_train_score='warn',\n",
       "       scoring=None, verbose=3)"
      ]
     },
     "execution_count": 309,
     "metadata": {},
     "output_type": "execute_result"
    }
   ],
   "source": [
    "bgrid.fit(X_train, y_train)"
   ]
  },
  {
   "cell_type": "code",
   "execution_count": 310,
   "metadata": {
    "ExecuteTime": {
     "end_time": "2019-04-29T19:43:49.776342Z",
     "start_time": "2019-04-29T19:43:49.773225Z"
    }
   },
   "outputs": [
    {
     "data": {
      "text/plain": [
       "{'learning_rate': 0.1, 'n_estimators': 36, 'random_state': 101}"
      ]
     },
     "execution_count": 310,
     "metadata": {},
     "output_type": "execute_result"
    }
   ],
   "source": [
    "bgrid.best_params_"
   ]
  },
  {
   "cell_type": "code",
   "execution_count": 311,
   "metadata": {
    "ExecuteTime": {
     "end_time": "2019-04-29T19:43:50.695825Z",
     "start_time": "2019-04-29T19:43:50.691633Z"
    }
   },
   "outputs": [
    {
     "data": {
      "text/plain": [
       "GradientBoostingClassifier(criterion='friedman_mse', init=None,\n",
       "              learning_rate=0.1, loss='deviance', max_depth=3,\n",
       "              max_features=None, max_leaf_nodes=None,\n",
       "              min_impurity_decrease=0.0, min_impurity_split=None,\n",
       "              min_samples_leaf=1, min_samples_split=2,\n",
       "              min_weight_fraction_leaf=0.0, n_estimators=36,\n",
       "              n_iter_no_change=None, presort='auto', random_state=101,\n",
       "              subsample=1.0, tol=0.0001, validation_fraction=0.1,\n",
       "              verbose=0, warm_start=False)"
      ]
     },
     "execution_count": 311,
     "metadata": {},
     "output_type": "execute_result"
    }
   ],
   "source": [
    "bgrid.best_estimator_"
   ]
  },
  {
   "cell_type": "code",
   "execution_count": 312,
   "metadata": {
    "ExecuteTime": {
     "end_time": "2019-04-29T19:43:51.726107Z",
     "start_time": "2019-04-29T19:43:51.718881Z"
    }
   },
   "outputs": [
    {
     "name": "stdout",
     "output_type": "stream",
     "text": [
      "[[72 13]\n",
      " [17 24]]\n",
      "              precision    recall  f1-score   support\n",
      "\n",
      "           0       0.81      0.85      0.83        85\n",
      "           1       0.65      0.59      0.62        41\n",
      "\n",
      "   micro avg       0.76      0.76      0.76       126\n",
      "   macro avg       0.73      0.72      0.72       126\n",
      "weighted avg       0.76      0.76      0.76       126\n",
      "\n"
     ]
    }
   ],
   "source": [
    "bgrid_predictions = bgrid.predict(X_test)\n",
    "print(confusion_matrix(y_test,bgrid_predictions))\n",
    "print(classification_report(y_test,bgrid_predictions))"
   ]
  },
  {
   "cell_type": "code",
   "execution_count": 313,
   "metadata": {
    "ExecuteTime": {
     "end_time": "2019-04-29T19:43:56.756475Z",
     "start_time": "2019-04-29T19:43:56.748259Z"
    }
   },
   "outputs": [
    {
     "name": "stdout",
     "output_type": "stream",
     "text": [
      "[[195   0]\n",
      " [  3  96]]\n",
      "              precision    recall  f1-score   support\n",
      "\n",
      "           0       0.98      1.00      0.99       195\n",
      "           1       1.00      0.97      0.98        99\n",
      "\n",
      "   micro avg       0.99      0.99      0.99       294\n",
      "   macro avg       0.99      0.98      0.99       294\n",
      "weighted avg       0.99      0.99      0.99       294\n",
      "\n"
     ]
    }
   ],
   "source": [
    "pbgrid_predictions = bgrid.predict(X_train)\n",
    "print(confusion_matrix(y_train, pbgrid_predictions))\n",
    "print(classification_report(y_train, pbgrid_predictions))"
   ]
  },
  {
   "cell_type": "code",
   "execution_count": null,
   "metadata": {},
   "outputs": [],
   "source": [
    "\n",
    "\n",
    "\n",
    "\n",
    "\n",
    "\n"
   ]
  },
  {
   "cell_type": "code",
   "execution_count": 250,
   "metadata": {
    "ExecuteTime": {
     "end_time": "2019-04-29T19:32:06.007833Z",
     "start_time": "2019-04-29T19:32:06.005532Z"
    }
   },
   "outputs": [],
   "source": [
    "from sklearn.neighbors import KNeighborsClassifier"
   ]
  },
  {
   "cell_type": "code",
   "execution_count": null,
   "metadata": {
    "ExecuteTime": {
     "end_time": "2019-04-24T23:07:48.498680Z",
     "start_time": "2019-04-24T23:07:48.485751Z"
    }
   },
   "outputs": [],
   "source": []
  },
  {
   "cell_type": "code",
   "execution_count": null,
   "metadata": {
    "ExecuteTime": {
     "end_time": "2019-04-24T23:08:19.126881Z",
     "start_time": "2019-04-24T23:08:19.118633Z"
    }
   },
   "outputs": [],
   "source": []
  },
  {
   "cell_type": "code",
   "execution_count": 358,
   "metadata": {
    "ExecuteTime": {
     "end_time": "2019-04-29T20:00:27.759236Z",
     "start_time": "2019-04-29T20:00:27.322223Z"
    }
   },
   "outputs": [],
   "source": [
    "error_rate = []\n",
    "rer = []\n",
    "jn = 50\n",
    "\n",
    "# Will take some time\n",
    "for i in range(1,jn):\n",
    "    \n",
    "    knn = KNeighborsClassifier(n_neighbors=i)\n",
    "    knn.fit(X_train,y_train)\n",
    "    pred_i = knn.predict(X_test)\n",
    "    rate = np.mean(pred_i != y_test)\n",
    "    error_rate.append(rate)\n",
    "    rer.append((i, rate))"
   ]
  },
  {
   "cell_type": "code",
   "execution_count": 359,
   "metadata": {
    "ExecuteTime": {
     "end_time": "2019-04-29T20:00:28.194431Z",
     "start_time": "2019-04-29T20:00:28.045047Z"
    }
   },
   "outputs": [
    {
     "name": "stdout",
     "output_type": "stream",
     "text": [
      "(17, 0.23809523809523808)\n",
      "(33, 0.23809523809523808)\n",
      "(35, 0.23809523809523808)\n",
      "(15, 0.24603174603174602)\n",
      "(21, 0.24603174603174602)\n",
      "(23, 0.24603174603174602)\n",
      "(30, 0.24603174603174602)\n",
      "(31, 0.24603174603174602)\n",
      "(32, 0.24603174603174602)\n",
      "(34, 0.24603174603174602)\n"
     ]
    },
    {
     "data": {
      "image/png": "[encoded data removed]",
      "text/plain": [
       "<Figure size 720x432 with 1 Axes>"
      ]
     },
     "metadata": {
      "needs_background": "light"
     },
     "output_type": "display_data"
    }
   ],
   "source": [
    "plt.figure(figsize=(10,6))\n",
    "plt.plot(range(1,jn),error_rate,color='blue', linestyle='dashed', marker='o',\n",
    "         markerfacecolor='red', markersize=10)\n",
    "plt.title('Error Rate vs. K Value')\n",
    "plt.xlabel('K')\n",
    "plt.ylabel('Error Rate')\n",
    "\n",
    "for i in sorted(rer, key=lambda x: x[1])[:10]:\n",
    "    print(i)"
   ]
  },
  {
   "cell_type": "code",
   "execution_count": 360,
   "metadata": {
    "ExecuteTime": {
     "end_time": "2019-04-29T20:00:28.711342Z",
     "start_time": "2019-04-29T20:00:28.688615Z"
    }
   },
   "outputs": [
    {
     "name": "stdout",
     "output_type": "stream",
     "text": [
      "WITH K= 15\n",
      "\n",
      "\n",
      "[[75 10]\n",
      " [21 20]]\n",
      "31\n",
      "\n",
      "\n",
      "              precision    recall  f1-score   support\n",
      "\n",
      "           0       0.78      0.88      0.83        85\n",
      "           1       0.67      0.49      0.56        41\n",
      "\n",
      "   micro avg       0.75      0.75      0.75       126\n",
      "   macro avg       0.72      0.69      0.70       126\n",
      "weighted avg       0.74      0.75      0.74       126\n",
      "\n"
     ]
    }
   ],
   "source": [
    "nn = 15\n",
    "\n",
    "knn = KNeighborsClassifier(n_neighbors=nn)\n",
    "\n",
    "knn.fit(X_train,y_train)\n",
    "pred = knn.predict(X_test)\n",
    "\n",
    "print('WITH K=', nn)\n",
    "print('\\n')\n",
    "print(confusion_matrix(y_test,pred))\n",
    "print(confusion_matrix(y_test,pred)[0][1] + \n",
    "      confusion_matrix(y_test,pred)[1][0])\n",
    "print('\\n')\n",
    "print(classification_report(y_test,pred))"
   ]
  },
  {
   "cell_type": "code",
   "execution_count": 361,
   "metadata": {
    "ExecuteTime": {
     "end_time": "2019-04-29T20:00:29.297980Z",
     "start_time": "2019-04-29T20:00:29.270706Z"
    }
   },
   "outputs": [
    {
     "name": "stdout",
     "output_type": "stream",
     "text": [
      "[[180  15]\n",
      " [ 49  50]]\n",
      "64\n",
      "              precision    recall  f1-score   support\n",
      "\n",
      "           0       0.79      0.92      0.85       195\n",
      "           1       0.77      0.51      0.61        99\n",
      "\n",
      "   micro avg       0.78      0.78      0.78       294\n",
      "   macro avg       0.78      0.71      0.73       294\n",
      "weighted avg       0.78      0.78      0.77       294\n",
      "\n"
     ]
    }
   ],
   "source": [
    "ogrid_predictions = knn.predict(X_train)\n",
    "print(confusion_matrix(y_train, ogrid_predictions))\n",
    "print(confusion_matrix(y_train, ogrid_predictions)[0][1] + \n",
    "      confusion_matrix(y_train, ogrid_predictions)[1][0])\n",
    "print(classification_report(y_train, ogrid_predictions))"
   ]
  },
  {
   "cell_type": "code",
   "execution_count": 362,
   "metadata": {
    "ExecuteTime": {
     "end_time": "2019-04-29T20:00:30.731677Z",
     "start_time": "2019-04-29T20:00:29.884462Z"
    }
   },
   "outputs": [],
   "source": [
    "oere = []\n",
    "orer = []\n",
    "\n",
    "# Will take some time\n",
    "for i in range(1,jn):\n",
    "    \n",
    "    knn = KNeighborsClassifier(n_neighbors=i)\n",
    "    knn.fit(X_train,y_train)\n",
    "    pred_i = knn.predict(X_train)\n",
    "    rate = np.mean(pred_i != y_train)\n",
    "    oere.append(rate)\n",
    "    orer.append((i, rate))"
   ]
  },
  {
   "cell_type": "code",
   "execution_count": 363,
   "metadata": {
    "ExecuteTime": {
     "end_time": "2019-04-29T20:00:30.995852Z",
     "start_time": "2019-04-29T20:00:30.854667Z"
    }
   },
   "outputs": [
    {
     "name": "stdout",
     "output_type": "stream",
     "text": [
      "[(1, 0.0), (2, 0.1598639455782313), (3, 0.1598639455782313), (4, 0.20068027210884354), (7, 0.20408163265306123)]\n"
     ]
    },
    {
     "data": {
      "image/png": "[encoded data removed]",
      "text/plain": [
       "<Figure size 720x432 with 1 Axes>"
      ]
     },
     "metadata": {
      "needs_background": "light"
     },
     "output_type": "display_data"
    }
   ],
   "source": [
    "plt.figure(figsize=(10,6))\n",
    "plt.plot(range(1,jn), oere, color='blue', linestyle='dashed', \n",
    "         marker='o',\n",
    "         markerfacecolor='red', markersize=10)\n",
    "plt.plot(range(1,jn),error_rate,color='blue', linestyle='dashed', \n",
    "         marker='o',\n",
    "         markerfacecolor='blue', markersize=10)\n",
    "plt.title('overfit vs. K Value')\n",
    "plt.xlabel('K')\n",
    "plt.ylabel('Error Rate')\n",
    "\n",
    "print(sorted(orer, key=lambda x: x[1])[:5])"
   ]
  },
  {
   "cell_type": "code",
   "execution_count": null,
   "metadata": {},
   "outputs": [],
   "source": []
  },
  {
   "cell_type": "code",
   "execution_count": null,
   "metadata": {},
   "outputs": [],
   "source": []
  },
  {
   "cell_type": "code",
   "execution_count": 248,
   "metadata": {
    "ExecuteTime": {
     "end_time": "2019-04-29T19:31:41.452260Z",
     "start_time": "2019-04-29T19:31:41.449923Z"
    }
   },
   "outputs": [],
   "source": [
    "from sklearn.ensemble import RandomForestClassifier"
   ]
  },
  {
   "cell_type": "code",
   "execution_count": null,
   "metadata": {},
   "outputs": [],
   "source": []
  },
  {
   "cell_type": "code",
   "execution_count": 64,
   "metadata": {
    "ExecuteTime": {
     "end_time": "2019-04-26T20:50:34.633775Z",
     "start_time": "2019-04-26T20:50:34.631141Z"
    }
   },
   "outputs": [],
   "source": [
    "rs = 0"
   ]
  },
  {
   "cell_type": "code",
   "execution_count": null,
   "metadata": {
    "ExecuteTime": {
     "end_time": "2019-04-26T20:35:14.560095Z",
     "start_time": "2019-04-26T20:35:14.541673Z"
    }
   },
   "outputs": [],
   "source": []
  },
  {
   "cell_type": "code",
   "execution_count": null,
   "metadata": {
    "ExecuteTime": {
     "end_time": "2019-04-26T20:35:17.311916Z",
     "start_time": "2019-04-26T20:35:17.305640Z"
    }
   },
   "outputs": [],
   "source": []
  },
  {
   "cell_type": "code",
   "execution_count": 65,
   "metadata": {
    "ExecuteTime": {
     "end_time": "2019-04-26T20:51:31.964952Z",
     "start_time": "2019-04-26T20:50:35.485997Z"
    }
   },
   "outputs": [],
   "source": [
    "error_rate = []\n",
    "rer = []\n",
    "est = 300\n",
    "\n",
    "for i in range(1,est):\n",
    "    rfc = RandomForestClassifier(n_estimators=i, random_state=rs)\n",
    "    rfc.fit(X_train,y_train)\n",
    "    pred_i = rfc.predict(X_test)\n",
    "    rate = np.mean(pred_i != y_test)\n",
    "    error_rate.append(rate)\n",
    "    rer.append((i, rate))"
   ]
  },
  {
   "cell_type": "code",
   "execution_count": 66,
   "metadata": {
    "ExecuteTime": {
     "end_time": "2019-04-26T20:51:32.098499Z",
     "start_time": "2019-04-26T20:51:31.966550Z"
    }
   },
   "outputs": [
    {
     "name": "stdout",
     "output_type": "stream",
     "text": [
      "[(30, 0.25396825396825395), (28, 0.2619047619047619), (68, 0.2619047619047619), (24, 0.2698412698412698), (26, 0.2698412698412698)]\n"
     ]
    },
    {
     "data": {
      "image/png": "[encoded data removed]",
      "text/plain": [
       "<Figure size 720x432 with 1 Axes>"
      ]
     },
     "metadata": {
      "needs_background": "light"
     },
     "output_type": "display_data"
    }
   ],
   "source": [
    "plt.figure(figsize=(10,6))\n",
    "plt.plot(range(1,est),error_rate,color='blue', \n",
    "         linestyle='dashed', marker='o',\n",
    "         markerfacecolor='red', markersize=10)\n",
    "plt.title('Error Rate vs. estimators')\n",
    "plt.xlabel('estimators')\n",
    "plt.ylabel('Error Rate')\n",
    "\n",
    "print(sorted(rer, key=lambda x: x[1])[:5])"
   ]
  },
  {
   "cell_type": "code",
   "execution_count": 365,
   "metadata": {
    "ExecuteTime": {
     "end_time": "2019-04-29T20:03:19.742882Z",
     "start_time": "2019-04-29T20:03:19.691871Z"
    }
   },
   "outputs": [
    {
     "name": "stdout",
     "output_type": "stream",
     "text": [
      "[[72 13]\n",
      " [22 19]]\n",
      "              precision    recall  f1-score   support\n",
      "\n",
      "           0       0.77      0.85      0.80        85\n",
      "           1       0.59      0.46      0.52        41\n",
      "\n",
      "   micro avg       0.72      0.72      0.72       126\n",
      "   macro avg       0.68      0.66      0.66       126\n",
      "weighted avg       0.71      0.72      0.71       126\n",
      "\n"
     ]
    }
   ],
   "source": [
    "rfc = RandomForestClassifier(n_estimators=30, random_state=rs)\n",
    "rfc.fit(X_train, y_train)\n",
    "rfc_pred = rfc.predict(X_test)\n",
    "print(confusion_matrix(y_test,rfc_pred))\n",
    "print(classification_report(y_test,rfc_pred))"
   ]
  },
  {
   "cell_type": "code",
   "execution_count": null,
   "metadata": {},
   "outputs": [],
   "source": []
  },
  {
   "cell_type": "code",
   "execution_count": 75,
   "metadata": {
    "ExecuteTime": {
     "end_time": "2019-04-28T18:09:28.091807Z",
     "start_time": "2019-04-28T18:09:27.996216Z"
    }
   },
   "outputs": [
    {
     "name": "stderr",
     "output_type": "stream",
     "text": [
      "/anaconda3/lib/python3.6/site-packages/sklearn/svm/base.py:196: FutureWarning: The default value of gamma will change from 'auto' to 'scale' in version 0.22 to account better for unscaled features. Set gamma explicitly to 'auto' or 'scale' to avoid this warning.\n",
      "  \"avoid this warning.\", FutureWarning)\n"
     ]
    },
    {
     "data": {
      "text/plain": [
       "SVC(C=1.0, cache_size=200, class_weight=None, coef0=0.0,\n",
       "  decision_function_shape='ovr', degree=3, gamma='auto_deprecated',\n",
       "  kernel='rbf', max_iter=-1, probability=False, random_state=None,\n",
       "  shrinking=True, tol=0.001, verbose=False)"
      ]
     },
     "execution_count": 75,
     "metadata": {},
     "output_type": "execute_result"
    }
   ],
   "source": [
    "from sklearn.svm import SVC\n",
    "model = SVC()\n",
    "model.fit(X_train, y_train)"
   ]
  },
  {
   "cell_type": "code",
   "execution_count": 78,
   "metadata": {
    "ExecuteTime": {
     "end_time": "2019-04-28T18:14:08.423489Z",
     "start_time": "2019-04-28T18:14:08.416871Z"
    }
   },
   "outputs": [],
   "source": [
    "svc_pred = model.predict(X_test)"
   ]
  },
  {
   "cell_type": "code",
   "execution_count": 79,
   "metadata": {
    "ExecuteTime": {
     "end_time": "2019-04-28T18:14:36.603759Z",
     "start_time": "2019-04-28T18:14:36.593500Z"
    }
   },
   "outputs": [
    {
     "name": "stdout",
     "output_type": "stream",
     "text": [
      "[[70  9]\n",
      " [27 20]]\n",
      "              precision    recall  f1-score   support\n",
      "\n",
      "           0       0.72      0.89      0.80        79\n",
      "           1       0.69      0.43      0.53        47\n",
      "\n",
      "   micro avg       0.71      0.71      0.71       126\n",
      "   macro avg       0.71      0.66      0.66       126\n",
      "weighted avg       0.71      0.71      0.70       126\n",
      "\n"
     ]
    }
   ],
   "source": [
    "print(confusion_matrix(y_test,svc_pred))\n",
    "print(classification_report(y_test,svc_pred))"
   ]
  },
  {
   "cell_type": "code",
   "execution_count": 106,
   "metadata": {
    "ExecuteTime": {
     "end_time": "2019-04-29T16:45:25.956645Z",
     "start_time": "2019-04-29T16:45:25.953278Z"
    }
   },
   "outputs": [],
   "source": [
    "param_grid = {'C': [.01, 0.1, 1, 10, 100, 1000, 10000], \n",
    "              'gamma': [.1, 1, 0.1, 0.01, 0.001, 0.0001], \n",
    "              'kernel': ['rbf', 'linear', 'poly'], \n",
    "              'degree': [0, 1, 2, 3, 4, 5, 6, 7, 8]}"
   ]
  },
  {
   "cell_type": "code",
   "execution_count": 175,
   "metadata": {
    "ExecuteTime": {
     "end_time": "2019-04-29T18:29:24.060988Z",
     "start_time": "2019-04-29T18:29:24.057954Z"
    }
   },
   "outputs": [],
   "source": [
    "from sklearn.model_selection import GridSearchCV\n",
    "grid = GridSearchCV(SVC(),param_grid,refit=True,verbose=3, n_jobs=12)"
   ]
  },
  {
   "cell_type": "code",
   "execution_count": 176,
   "metadata": {
    "ExecuteTime": {
     "end_time": "2019-04-29T18:29:34.669239Z",
     "start_time": "2019-04-29T18:29:25.600970Z"
    }
   },
   "outputs": [
    {
     "name": "stderr",
     "output_type": "stream",
     "text": [
      "/anaconda3/lib/python3.6/site-packages/sklearn/model_selection/_split.py:2053: FutureWarning: You should specify a value for 'cv' instead of relying on the default value. The default value will change from 3 to 5 in version 0.22.\n",
      "  warnings.warn(CV_WARNING, FutureWarning)\n",
      "[Parallel(n_jobs=12)]: Using backend LokyBackend with 12 concurrent workers.\n"
     ]
    },
    {
     "name": "stdout",
     "output_type": "stream",
     "text": [
      "Fitting 3 folds for each of 1134 candidates, totalling 3402 fits\n"
     ]
    },
    {
     "name": "stderr",
     "output_type": "stream",
     "text": [
      "[Parallel(n_jobs=12)]: Done   8 tasks      | elapsed:    1.9s\n",
      "[Parallel(n_jobs=12)]: Done 337 tasks      | elapsed:    2.6s\n",
      "[Parallel(n_jobs=12)]: Done 2257 tasks      | elapsed:    5.8s\n",
      "[Parallel(n_jobs=12)]: Done 3402 out of 3402 | elapsed:    8.9s finished\n"
     ]
    },
    {
     "data": {
      "text/plain": [
       "GridSearchCV(cv='warn', error_score='raise-deprecating',\n",
       "       estimator=SVC(C=1.0, cache_size=200, class_weight=None, coef0=0.0,\n",
       "  decision_function_shape='ovr', degree=3, gamma='auto_deprecated',\n",
       "  kernel='rbf', max_iter=-1, probability=False, random_state=None,\n",
       "  shrinking=True, tol=0.001, verbose=False),\n",
       "       fit_params=None, iid='warn', n_jobs=12,\n",
       "       param_grid={'C': [0.01, 0.1, 1, 10, 100, 1000, 10000], 'gamma': [0.1, 1, 0.1, 0.01, 0.001, 0.0001], 'kernel': ['rbf', 'linear', 'poly'], 'degree': [0, 1, 2, 3, 4, 5, 6, 7, 8]},\n",
       "       pre_dispatch='2*n_jobs', refit=True, return_train_score='warn',\n",
       "       scoring=None, verbose=3)"
      ]
     },
     "execution_count": 176,
     "metadata": {},
     "output_type": "execute_result"
    }
   ],
   "source": [
    "grid.fit(X_train,y_train)"
   ]
  },
  {
   "cell_type": "code",
   "execution_count": 177,
   "metadata": {
    "ExecuteTime": {
     "end_time": "2019-04-29T18:29:39.803131Z",
     "start_time": "2019-04-29T18:29:39.799005Z"
    }
   },
   "outputs": [
    {
     "data": {
      "text/plain": [
       "{'C': 1, 'degree': 0, 'gamma': 0.01, 'kernel': 'rbf'}"
      ]
     },
     "execution_count": 177,
     "metadata": {},
     "output_type": "execute_result"
    }
   ],
   "source": [
    "grid.best_params_"
   ]
  },
  {
   "cell_type": "code",
   "execution_count": 178,
   "metadata": {
    "ExecuteTime": {
     "end_time": "2019-04-29T18:29:42.661321Z",
     "start_time": "2019-04-29T18:29:42.657168Z"
    }
   },
   "outputs": [
    {
     "data": {
      "text/plain": [
       "SVC(C=1, cache_size=200, class_weight=None, coef0=0.0,\n",
       "  decision_function_shape='ovr', degree=0, gamma=0.01, kernel='rbf',\n",
       "  max_iter=-1, probability=False, random_state=None, shrinking=True,\n",
       "  tol=0.001, verbose=False)"
      ]
     },
     "execution_count": 178,
     "metadata": {},
     "output_type": "execute_result"
    }
   ],
   "source": [
    "grid.best_estimator_"
   ]
  },
  {
   "cell_type": "code",
   "execution_count": 179,
   "metadata": {
    "ExecuteTime": {
     "end_time": "2019-04-29T18:29:44.681356Z",
     "start_time": "2019-04-29T18:29:44.669909Z"
    }
   },
   "outputs": [
    {
     "name": "stdout",
     "output_type": "stream",
     "text": [
      "[[76  9]\n",
      " [24 17]]\n",
      "              precision    recall  f1-score   support\n",
      "\n",
      "           0       0.76      0.89      0.82        85\n",
      "           1       0.65      0.41      0.51        41\n",
      "\n",
      "   micro avg       0.74      0.74      0.74       126\n",
      "   macro avg       0.71      0.65      0.66       126\n",
      "weighted avg       0.73      0.74      0.72       126\n",
      "\n"
     ]
    }
   ],
   "source": [
    "grid_pred = grid.predict(X_test)\n",
    "print(confusion_matrix(y_test,grid_pred))\n",
    "print(classification_report(y_test,grid_pred))"
   ]
  },
  {
   "cell_type": "code",
   "execution_count": null,
   "metadata": {},
   "outputs": [],
   "source": []
  }
 ],
 "metadata": {
  "kernelspec": {
   "display_name": "Python 3",
   "language": "python",
   "name": "python3"
  },
  "language_info": {
   "codemirror_mode": {
    "name": "ipython",
    "version": 3
   },
   "file_extension": ".py",
   "mimetype": "text/x-python",
   "name": "python",
   "nbconvert_exporter": "python",
   "pygments_lexer": "ipython3",
   "version": "3.6.9"
  }
 },
 "nbformat": 4,
 "nbformat_minor": 4
}
