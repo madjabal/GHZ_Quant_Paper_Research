{
 "cells": [
  {
   "cell_type": "code",
   "execution_count": 64,
   "metadata": {
    "ExecuteTime": {
     "end_time": "2019-05-24T19:24:31.972885Z",
     "start_time": "2019-05-24T19:24:31.964987Z"
    }
   },
   "outputs": [],
   "source": [
    "import numpy as np\n",
    "import pandas as pd\n",
    "import matplotlib.pyplot as plt\n",
    "import seaborn as sns\n",
    "%matplotlib inline\n",
    "\n",
    "import torch\n",
    "import torchvision\n",
    "from torch import nn\n",
    "from torch import optim\n",
    "import torch.nn.functional as F\n",
    "from torch.autograd import Variable\n",
    "from torch.utils.data import DataLoader\n",
    "from torchvision import transforms\n",
    "from torchvision.utils import save_image\n",
    "from torchvision.datasets import MNIST\n",
    "\n",
    "from sklearn import preprocessing\n",
    "\n",
    "import os\n",
    "import gc\n",
    "import sys"
   ]
  },
  {
   "cell_type": "code",
   "execution_count": 65,
   "metadata": {
    "ExecuteTime": {
     "end_time": "2019-05-24T19:24:32.275269Z",
     "start_time": "2019-05-24T19:24:32.253458Z"
    }
   },
   "outputs": [],
   "source": [
    "d = pd.read_csv('peqw.csv')"
   ]
  },
  {
   "cell_type": "code",
   "execution_count": 66,
   "metadata": {
    "ExecuteTime": {
     "end_time": "2019-05-24T19:24:32.590526Z",
     "start_time": "2019-05-24T19:24:32.586261Z"
    }
   },
   "outputs": [],
   "source": [
    "d.rename(index=str, columns = {'Unnamed: 0':'time'}, inplace=True)"
   ]
  },
  {
   "cell_type": "code",
   "execution_count": 67,
   "metadata": {
    "ExecuteTime": {
     "end_time": "2019-05-24T19:24:32.952195Z",
     "start_time": "2019-05-24T19:24:32.930546Z"
    }
   },
   "outputs": [
    {
     "data": {
      "text/html": [
       "<div>\n",
       "<style scoped>\n",
       "    .dataframe tbody tr th:only-of-type {\n",
       "        vertical-align: middle;\n",
       "    }\n",
       "\n",
       "    .dataframe tbody tr th {\n",
       "        vertical-align: top;\n",
       "    }\n",
       "\n",
       "    .dataframe thead th {\n",
       "        text-align: right;\n",
       "    }\n",
       "</style>\n",
       "<table border=\"1\" class=\"dataframe\">\n",
       "  <thead>\n",
       "    <tr style=\"text-align: right;\">\n",
       "      <th></th>\n",
       "      <th>time</th>\n",
       "      <th>year</th>\n",
       "      <th>absacc</th>\n",
       "      <th>acc</th>\n",
       "      <th>age</th>\n",
       "      <th>agr</th>\n",
       "      <th>bm</th>\n",
       "      <th>bm_ia</th>\n",
       "      <th>cash</th>\n",
       "      <th>cashdebt</th>\n",
       "      <th>...</th>\n",
       "      <th>ps</th>\n",
       "      <th>nincr</th>\n",
       "      <th>divi</th>\n",
       "      <th>divo</th>\n",
       "      <th>rd</th>\n",
       "      <th>sin</th>\n",
       "      <th>IPO</th>\n",
       "      <th>convind</th>\n",
       "      <th>securedind</th>\n",
       "      <th>month</th>\n",
       "    </tr>\n",
       "  </thead>\n",
       "  <tbody>\n",
       "    <tr>\n",
       "      <th>0</th>\n",
       "      <td>0</td>\n",
       "      <td>1980</td>\n",
       "      <td>0.020437</td>\n",
       "      <td>-0.019961</td>\n",
       "      <td>0.004841</td>\n",
       "      <td>-0.051247</td>\n",
       "      <td>0.002593</td>\n",
       "      <td>0.026180</td>\n",
       "      <td>0.005222</td>\n",
       "      <td>-0.066361</td>\n",
       "      <td>...</td>\n",
       "      <td>-0.021583</td>\n",
       "      <td>0.003167</td>\n",
       "      <td>-0.031233</td>\n",
       "      <td>-0.031233</td>\n",
       "      <td>-0.031233</td>\n",
       "      <td>0.096761</td>\n",
       "      <td>0.096761</td>\n",
       "      <td>0.004620</td>\n",
       "      <td>0.096761</td>\n",
       "      <td>1</td>\n",
       "    </tr>\n",
       "    <tr>\n",
       "      <th>1</th>\n",
       "      <td>1</td>\n",
       "      <td>1980</td>\n",
       "      <td>0.015636</td>\n",
       "      <td>-0.000363</td>\n",
       "      <td>-0.018122</td>\n",
       "      <td>-0.014145</td>\n",
       "      <td>-0.021253</td>\n",
       "      <td>-0.004250</td>\n",
       "      <td>0.003154</td>\n",
       "      <td>-0.027831</td>\n",
       "      <td>...</td>\n",
       "      <td>-0.023228</td>\n",
       "      <td>-0.017170</td>\n",
       "      <td>-0.051512</td>\n",
       "      <td>-0.051512</td>\n",
       "      <td>-0.051512</td>\n",
       "      <td>-0.014712</td>\n",
       "      <td>-0.014712</td>\n",
       "      <td>-0.003763</td>\n",
       "      <td>-0.014712</td>\n",
       "      <td>2</td>\n",
       "    </tr>\n",
       "    <tr>\n",
       "      <th>2</th>\n",
       "      <td>2</td>\n",
       "      <td>1980</td>\n",
       "      <td>-0.040065</td>\n",
       "      <td>-0.018086</td>\n",
       "      <td>-0.014526</td>\n",
       "      <td>0.001264</td>\n",
       "      <td>0.033694</td>\n",
       "      <td>0.022895</td>\n",
       "      <td>-0.003068</td>\n",
       "      <td>0.042815</td>\n",
       "      <td>...</td>\n",
       "      <td>0.025033</td>\n",
       "      <td>0.008833</td>\n",
       "      <td>0.011847</td>\n",
       "      <td>0.011847</td>\n",
       "      <td>0.011847</td>\n",
       "      <td>-0.160399</td>\n",
       "      <td>-0.160399</td>\n",
       "      <td>-0.008245</td>\n",
       "      <td>-0.160399</td>\n",
       "      <td>3</td>\n",
       "    </tr>\n",
       "    <tr>\n",
       "      <th>3</th>\n",
       "      <td>3</td>\n",
       "      <td>1980</td>\n",
       "      <td>-0.017147</td>\n",
       "      <td>-0.013814</td>\n",
       "      <td>0.001677</td>\n",
       "      <td>0.001489</td>\n",
       "      <td>-0.022916</td>\n",
       "      <td>-0.014910</td>\n",
       "      <td>-0.015351</td>\n",
       "      <td>0.007168</td>\n",
       "      <td>...</td>\n",
       "      <td>0.027996</td>\n",
       "      <td>0.029631</td>\n",
       "      <td>0.035142</td>\n",
       "      <td>0.035142</td>\n",
       "      <td>0.035142</td>\n",
       "      <td>0.053434</td>\n",
       "      <td>0.053434</td>\n",
       "      <td>0.000111</td>\n",
       "      <td>0.053434</td>\n",
       "      <td>4</td>\n",
       "    </tr>\n",
       "    <tr>\n",
       "      <th>4</th>\n",
       "      <td>4</td>\n",
       "      <td>1980</td>\n",
       "      <td>-0.005577</td>\n",
       "      <td>0.005240</td>\n",
       "      <td>-0.004074</td>\n",
       "      <td>0.029255</td>\n",
       "      <td>-0.010575</td>\n",
       "      <td>-0.011134</td>\n",
       "      <td>0.015279</td>\n",
       "      <td>0.022806</td>\n",
       "      <td>...</td>\n",
       "      <td>0.004142</td>\n",
       "      <td>-0.003777</td>\n",
       "      <td>0.019834</td>\n",
       "      <td>0.019834</td>\n",
       "      <td>0.019834</td>\n",
       "      <td>0.073763</td>\n",
       "      <td>0.073763</td>\n",
       "      <td>0.006476</td>\n",
       "      <td>0.073763</td>\n",
       "      <td>5</td>\n",
       "    </tr>\n",
       "  </tbody>\n",
       "</table>\n",
       "<p>5 rows × 105 columns</p>\n",
       "</div>"
      ],
      "text/plain": [
       "   time  year    absacc       acc       age       agr        bm     bm_ia  \\\n",
       "0     0  1980  0.020437 -0.019961  0.004841 -0.051247  0.002593  0.026180   \n",
       "1     1  1980  0.015636 -0.000363 -0.018122 -0.014145 -0.021253 -0.004250   \n",
       "2     2  1980 -0.040065 -0.018086 -0.014526  0.001264  0.033694  0.022895   \n",
       "3     3  1980 -0.017147 -0.013814  0.001677  0.001489 -0.022916 -0.014910   \n",
       "4     4  1980 -0.005577  0.005240 -0.004074  0.029255 -0.010575 -0.011134   \n",
       "\n",
       "       cash  cashdebt  ...        ps     nincr      divi      divo        rd  \\\n",
       "0  0.005222 -0.066361  ... -0.021583  0.003167 -0.031233 -0.031233 -0.031233   \n",
       "1  0.003154 -0.027831  ... -0.023228 -0.017170 -0.051512 -0.051512 -0.051512   \n",
       "2 -0.003068  0.042815  ...  0.025033  0.008833  0.011847  0.011847  0.011847   \n",
       "3 -0.015351  0.007168  ...  0.027996  0.029631  0.035142  0.035142  0.035142   \n",
       "4  0.015279  0.022806  ...  0.004142 -0.003777  0.019834  0.019834  0.019834   \n",
       "\n",
       "        sin       IPO   convind  securedind  month  \n",
       "0  0.096761  0.096761  0.004620    0.096761      1  \n",
       "1 -0.014712 -0.014712 -0.003763   -0.014712      2  \n",
       "2 -0.160399 -0.160399 -0.008245   -0.160399      3  \n",
       "3  0.053434  0.053434  0.000111    0.053434      4  \n",
       "4  0.073763  0.073763  0.006476    0.073763      5  \n",
       "\n",
       "[5 rows x 105 columns]"
      ]
     },
     "execution_count": 67,
     "metadata": {},
     "output_type": "execute_result"
    }
   ],
   "source": [
    "d.head()"
   ]
  },
  {
   "cell_type": "code",
   "execution_count": 68,
   "metadata": {
    "ExecuteTime": {
     "end_time": "2019-05-24T19:24:33.369578Z",
     "start_time": "2019-05-24T19:24:33.365938Z"
    }
   },
   "outputs": [
    {
     "data": {
      "text/plain": [
       "(420, 105)"
      ]
     },
     "execution_count": 68,
     "metadata": {},
     "output_type": "execute_result"
    }
   ],
   "source": [
    "d.shape"
   ]
  },
  {
   "cell_type": "code",
   "execution_count": 69,
   "metadata": {
    "ExecuteTime": {
     "end_time": "2019-05-24T19:24:33.832742Z",
     "start_time": "2019-05-24T19:24:33.830257Z"
    }
   },
   "outputs": [],
   "source": [
    "from sklearn.preprocessing import StandardScaler\n",
    "scaler = StandardScaler()"
   ]
  },
  {
   "cell_type": "code",
   "execution_count": 70,
   "metadata": {
    "ExecuteTime": {
     "end_time": "2019-05-24T19:24:34.134360Z",
     "start_time": "2019-05-24T19:24:34.126781Z"
    }
   },
   "outputs": [
    {
     "name": "stderr",
     "output_type": "stream",
     "text": [
      "/anaconda3/lib/python3.6/site-packages/sklearn/preprocessing/data.py:645: DataConversionWarning: Data with input dtype int64, float64 were all converted to float64 by StandardScaler.\n",
      "  return self.partial_fit(X, y)\n"
     ]
    },
    {
     "data": {
      "text/plain": [
       "StandardScaler(copy=True, with_mean=True, with_std=True)"
      ]
     },
     "execution_count": 70,
     "metadata": {},
     "output_type": "execute_result"
    }
   ],
   "source": [
    "scaler.fit(d.drop('mom1m', axis=1))"
   ]
  },
  {
   "cell_type": "code",
   "execution_count": 71,
   "metadata": {
    "ExecuteTime": {
     "end_time": "2019-05-24T19:24:34.457589Z",
     "start_time": "2019-05-24T19:24:34.453860Z"
    }
   },
   "outputs": [
    {
     "data": {
      "text/plain": [
       "(420, 105)"
      ]
     },
     "execution_count": 71,
     "metadata": {},
     "output_type": "execute_result"
    }
   ],
   "source": [
    "d.shape"
   ]
  },
  {
   "cell_type": "code",
   "execution_count": 72,
   "metadata": {
    "ExecuteTime": {
     "end_time": "2019-05-24T19:24:34.871707Z",
     "start_time": "2019-05-24T19:24:34.865596Z"
    }
   },
   "outputs": [
    {
     "name": "stderr",
     "output_type": "stream",
     "text": [
      "/anaconda3/lib/python3.6/site-packages/ipykernel_launcher.py:1: DataConversionWarning: Data with input dtype int64, float64 were all converted to float64 by StandardScaler.\n",
      "  \"\"\"Entry point for launching an IPython kernel.\n"
     ]
    }
   ],
   "source": [
    "scaled_feat = scaler.transform(d.drop('mom1m', axis=1))\n",
    "d_feat = pd.DataFrame(scaled_feat, columns=list(d.columns).remove('mom1m'))"
   ]
  },
  {
   "cell_type": "code",
   "execution_count": 73,
   "metadata": {
    "ExecuteTime": {
     "end_time": "2019-05-24T19:24:35.381819Z",
     "start_time": "2019-05-24T19:24:35.377925Z"
    }
   },
   "outputs": [],
   "source": [
    "from sklearn.model_selection import train_test_split\n",
    "X_train, X_test, y_train, y_test = train_test_split(scaled_feat,\n",
    "                                                    d['mom1m'],\n",
    "                                                    test_size=0.30)"
   ]
  },
  {
   "cell_type": "code",
   "execution_count": 74,
   "metadata": {
    "ExecuteTime": {
     "end_time": "2019-05-24T19:24:35.816046Z",
     "start_time": "2019-05-24T19:24:35.813498Z"
    }
   },
   "outputs": [],
   "source": [
    "X_train = X_train.astype(np.float32)\n",
    "T_train = torch.from_numpy(X_train)"
   ]
  },
  {
   "cell_type": "code",
   "execution_count": 75,
   "metadata": {
    "ExecuteTime": {
     "end_time": "2019-05-24T19:24:36.214589Z",
     "start_time": "2019-05-24T19:24:36.211685Z"
    }
   },
   "outputs": [],
   "source": [
    "y_train = y_train.values\n",
    "p_train = y_train.astype(np.float32)\n",
    "t_train = torch.from_numpy(p_train)"
   ]
  },
  {
   "cell_type": "code",
   "execution_count": 76,
   "metadata": {
    "ExecuteTime": {
     "end_time": "2019-05-24T19:24:36.665139Z",
     "start_time": "2019-05-24T19:24:36.661550Z"
    }
   },
   "outputs": [],
   "source": [
    "class LinearRegression(nn.Module):\n",
    "    def __init__(self):\n",
    "        super(LinearRegression, self).__init__()\n",
    "        self.linear = nn.Linear(104, 1)\n",
    "        \n",
    "    def forward(self, x):\n",
    "        out = self.linear(x)\n",
    "        return out\n"
   ]
  },
  {
   "cell_type": "code",
   "execution_count": 77,
   "metadata": {
    "ExecuteTime": {
     "end_time": "2019-05-24T19:24:37.414375Z",
     "start_time": "2019-05-24T19:24:37.411049Z"
    }
   },
   "outputs": [],
   "source": [
    "model = LinearRegression()\n",
    "criterion = nn.MSELoss()\n",
    "optimizer = optim.SGD(model.parameters(), lr=1e-4)"
   ]
  },
  {
   "cell_type": "code",
   "execution_count": null,
   "metadata": {},
   "outputs": [],
   "source": []
  },
  {
   "cell_type": "code",
   "execution_count": 90,
   "metadata": {
    "ExecuteTime": {
     "end_time": "2019-05-24T19:28:50.924498Z",
     "start_time": "2019-05-24T19:28:50.416129Z"
    }
   },
   "outputs": [
    {
     "name": "stdout",
     "output_type": "stream",
     "text": [
      "Epoch[20/1000], loss: 0.242826\n",
      "Epoch[40/1000], loss: 0.230587\n",
      "Epoch[60/1000], loss: 0.219616\n",
      "Epoch[80/1000], loss: 0.209760\n",
      "Epoch[100/1000], loss: 0.200886\n",
      "Epoch[120/1000], loss: 0.192878\n",
      "Epoch[140/1000], loss: 0.185635\n",
      "Epoch[160/1000], loss: 0.179066\n",
      "Epoch[180/1000], loss: 0.173094\n",
      "Epoch[200/1000], loss: 0.167649\n",
      "Epoch[220/1000], loss: 0.162672\n",
      "Epoch[240/1000], loss: 0.158110\n",
      "Epoch[260/1000], loss: 0.153915\n",
      "Epoch[280/1000], loss: 0.150047\n",
      "Epoch[300/1000], loss: 0.146471\n",
      "Epoch[320/1000], loss: 0.143154\n",
      "Epoch[340/1000], loss: 0.140069\n",
      "Epoch[360/1000], loss: 0.137191\n",
      "Epoch[380/1000], loss: 0.134499\n",
      "Epoch[400/1000], loss: 0.131973\n",
      "Epoch[420/1000], loss: 0.129598\n",
      "Epoch[440/1000], loss: 0.127357\n",
      "Epoch[460/1000], loss: 0.125239\n",
      "Epoch[480/1000], loss: 0.123231\n",
      "Epoch[500/1000], loss: 0.121323\n",
      "Epoch[520/1000], loss: 0.119506\n",
      "Epoch[540/1000], loss: 0.117772\n",
      "Epoch[560/1000], loss: 0.116114\n",
      "Epoch[580/1000], loss: 0.114525\n",
      "Epoch[600/1000], loss: 0.113000\n",
      "Epoch[620/1000], loss: 0.111534\n",
      "Epoch[640/1000], loss: 0.110121\n",
      "Epoch[660/1000], loss: 0.108759\n",
      "Epoch[680/1000], loss: 0.107443\n",
      "Epoch[700/1000], loss: 0.106171\n",
      "Epoch[720/1000], loss: 0.104938\n",
      "Epoch[740/1000], loss: 0.103743\n",
      "Epoch[760/1000], loss: 0.102583\n",
      "Epoch[780/1000], loss: 0.101457\n",
      "Epoch[800/1000], loss: 0.100361\n",
      "Epoch[820/1000], loss: 0.099294\n",
      "Epoch[840/1000], loss: 0.098256\n",
      "Epoch[860/1000], loss: 0.097243\n",
      "Epoch[880/1000], loss: 0.096255\n",
      "Epoch[900/1000], loss: 0.095291\n",
      "Epoch[920/1000], loss: 0.094349\n",
      "Epoch[940/1000], loss: 0.093428\n",
      "Epoch[960/1000], loss: 0.092528\n",
      "Epoch[980/1000], loss: 0.091648\n",
      "Epoch[1000/1000], loss: 0.090786\n"
     ]
    }
   ],
   "source": [
    "num_epochs = 1000\n",
    "for epoch in range(num_epochs):\n",
    "    inputs = Variable(T_train)\n",
    "    target = Variable(t_train)\n",
    "\n",
    "    # forward\n",
    "    out = model(inputs)\n",
    "    loss = criterion(out, target)\n",
    "    # backward\n",
    "    optimizer.zero_grad()\n",
    "    loss.backward()\n",
    "    optimizer.step()\n",
    "    \n",
    "    if (epoch+1) % 20 == 0:\n",
    "        print('Epoch[{}/{}], loss: {:.6f}'\n",
    "              .format(epoch+1, num_epochs, loss.item()))"
   ]
  },
  {
   "cell_type": "code",
   "execution_count": 93,
   "metadata": {
    "ExecuteTime": {
     "end_time": "2019-05-25T16:48:44.291479Z",
     "start_time": "2019-05-25T16:48:44.289351Z"
    }
   },
   "outputs": [],
   "source": [
    "# model.eval()\n",
    "# predict = model(Variable(T_train))\n",
    "# predict = predict.data.numpy()\n",
    "# plt.plot(T_train.numpy(), t_train.numpy(), 'ro', label='Original data')\n",
    "# plt.plot(T_train.numpy(), predict, label='Fitting Line')\n",
    "\n",
    "# plt.legend() \n",
    "# plt.show()\n",
    "\n",
    "# torch.save(model.state_dict(), './linear.pth')"
   ]
  },
  {
   "cell_type": "code",
   "execution_count": null,
   "metadata": {
    "ExecuteTime": {
     "end_time": "2019-05-25T17:03:19.907463Z",
     "start_time": "2019-05-25T17:03:19.904678Z"
    }
   },
   "outputs": [],
   "source": []
  },
  {
   "cell_type": "code",
   "execution_count": 96,
   "metadata": {
    "ExecuteTime": {
     "end_time": "2019-05-25T17:04:22.923096Z",
     "start_time": "2019-05-25T17:04:22.920328Z"
    }
   },
   "outputs": [],
   "source": [
    "P_test = X_test.astype(np.float32)\n",
    "T_test = torch.from_numpy(P_test)"
   ]
  },
  {
   "cell_type": "code",
   "execution_count": 97,
   "metadata": {
    "ExecuteTime": {
     "end_time": "2019-05-25T17:04:59.224269Z",
     "start_time": "2019-05-25T17:04:59.221336Z"
    }
   },
   "outputs": [],
   "source": [
    "y_test = y_test.values\n",
    "p_test = y_test.astype(np.float32)\n",
    "t_test = torch.from_numpy(p_test)"
   ]
  },
  {
   "cell_type": "code",
   "execution_count": 99,
   "metadata": {
    "ExecuteTime": {
     "end_time": "2019-05-25T17:06:18.416899Z",
     "start_time": "2019-05-25T17:06:18.413834Z"
    }
   },
   "outputs": [],
   "source": [
    "predict = model(Variable(T_test))\n",
    "predict = predict.data.numpy()"
   ]
  },
  {
   "cell_type": "code",
   "execution_count": 101,
   "metadata": {
    "ExecuteTime": {
     "end_time": "2019-05-25T17:06:29.299753Z",
     "start_time": "2019-05-25T17:06:29.297436Z"
    }
   },
   "outputs": [],
   "source": [
    "for i in range(len(pred)):\n",
    "    "
   ]
  },
  {
   "cell_type": "code",
   "execution_count": null,
   "metadata": {},
   "outputs": [],
   "source": []
  }
 ],
 "metadata": {
  "kernelspec": {
   "display_name": "Python 3",
   "language": "python",
   "name": "python3"
  },
  "language_info": {
   "codemirror_mode": {
    "name": "ipython",
    "version": 3
   },
   "file_extension": ".py",
   "mimetype": "text/x-python",
   "name": "python",
   "nbconvert_exporter": "python",
   "pygments_lexer": "ipython3",
   "version": "3.6.8"
  }
 },
 "nbformat": 4,
 "nbformat_minor": 2
}
